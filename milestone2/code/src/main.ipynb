{
 "cells": [
  {
   "cell_type": "code",
   "execution_count": 2,
   "metadata": {},
   "outputs": [],
   "source": [
    "import numpy as np\n",
    "import pandas as pd\n",
    "from sklearn.model_selection import train_test_split, cross_val_score\n",
    "import sklearn.model_selection as model_selection\n",
    "from sklearn.ensemble import RandomForestClassifier\n",
    "from sklearn.ensemble import AdaBoostClassifier\n",
    "from sklearn.preprocessing import OneHotEncoder\n",
    "from sklearn.model_selection import train_test_split\n",
    "import pickle\n",
    "import xgboost as xgb\n",
    "from sklearn.metrics import confusion_matrix\n",
    "import pickle\n",
    "\n",
    "from sklearn.metrics import accuracy_score, confusion_matrix, f1_score, recall_score, precision_score\n",
    "from sklearn.neural_network import MLPClassifier\n",
    "from sklearn import svm, tree\n",
    "from sklearn.model_selection import RepeatedStratifiedKFold, cross_val_score\n",
    "from tqdm import tqdm #creates progress bar to let you know how long is left till function is complete\n",
    "import xgboost as xgb\n",
    "from imblearn.under_sampling import RandomUnderSampler\n",
    "from imblearn.over_sampling import RandomOverSampler, SMOTENC\n",
    "from imblearn.pipeline import Pipeline"
   ]
  },
  {
   "cell_type": "code",
   "execution_count": 3,
   "metadata": {},
   "outputs": [],
   "source": [
    "df = pd.read_csv('../data/cases_train_processed.csv')\n",
    "df = df.drop(['Unnamed: 0','index','source','additional_information','Last_Update','Lat_right','Long_right','Province_State','Country_Region','dist_between_in_km'],1)\n",
    "df['Confirmed'].fillna(df['Confirmed'].mean(),inplace=True)\n",
    "df['Deaths'].fillna(df.Deaths.mean(),inplace=True)\n",
    "df['Recovered'].fillna(df.Recovered.mean(),inplace=True)\n",
    "df['Active'].fillna(df.Active.mean(),inplace=True)\n",
    "df['Incidence_Rate'].fillna(df.Incidence_Rate.mean(),inplace=True)\n",
    "df['Case-Fatality_Ratio'].fillna(df['Case-Fatality_Ratio'].mean(),inplace=True)\n",
    "df.date_confirmation = pd.to_datetime(df.date_confirmation,infer_datetime_format=True) \n",
    "df.Combined_Key.fillna((df.province+\" ,\"+df.country),inplace=True)"
   ]
  },
  {
   "cell_type": "code",
   "execution_count": 4,
   "metadata": {},
   "outputs": [],
   "source": [
    "df.age = df.age.astype('object')"
   ]
  },
  {
   "cell_type": "code",
   "execution_count": 5,
   "metadata": {},
   "outputs": [
    {
     "output_type": "stream",
     "name": "stdout",
     "text": [
      "<class 'pandas.core.frame.DataFrame'>\nRangeIndex: 367634 entries, 0 to 367633\nData columns (total 13 columns):\n #   Column               Non-Null Count   Dtype         \n---  ------               --------------   -----         \n 0   age                  367634 non-null  object        \n 1   sex                  367634 non-null  object        \n 2   province             367634 non-null  object        \n 3   country              367634 non-null  object        \n 4   date_confirmation    367634 non-null  datetime64[ns]\n 5   outcome              367634 non-null  object        \n 6   Confirmed            367634 non-null  float64       \n 7   Deaths               367634 non-null  float64       \n 8   Recovered            367634 non-null  float64       \n 9   Active               367634 non-null  float64       \n 10  Combined_Key         367634 non-null  object        \n 11  Incidence_Rate       367634 non-null  float64       \n 12  Case-Fatality_Ratio  367634 non-null  float64       \ndtypes: datetime64[ns](1), float64(6), object(6)\nmemory usage: 36.5+ MB\n"
     ]
    }
   ],
   "source": [
    "df.info()"
   ]
  },
  {
   "source": [
    "---------------------------------------------------------------------"
   ],
   "cell_type": "markdown",
   "metadata": {}
  },
  {
   "source": [
    "# TEsting Over and Under Sampling \n",
    "----------------------------------------------------------"
   ],
   "cell_type": "markdown",
   "metadata": {}
  },
  {
   "cell_type": "code",
   "execution_count": 6,
   "metadata": {},
   "outputs": [],
   "source": [
    "def dropDuplicates(data):\n",
    "    duplicates = data.columns[data.columns.duplicated()]\n",
    "    if len(duplicates) > 0:\n",
    "        data = data.loc[:,~data.columns.duplicated()]\n",
    "    return data\n",
    "\n",
    "def colsToDrop(dataframe):\n",
    "    if 'outcome' in dataframe.columns:\n",
    "        dataframe = dataframe.drop('outcome',1)\n",
    "        print(\"dropping the outcome column\")\n",
    "    if 'Combined_Key' in dataframe.columns:\n",
    "        dataframe = dataframe.drop('Combined_Key',1)\n",
    "        print(\"dropping Combined_Key\")\n",
    "    if 'dist_between_in_km' in dataframe.columns:\n",
    "        dataframe = dataframe.drop('dist_between_in_km',1)\n",
    "        print(\"dropping dist in km column\")\n",
    "    if 'date_confirmation' in dataframe.columns:\n",
    "        dataframe = dataframe.drop('date_confirmation',1)\n",
    "        print(\"dropping date\")\n",
    "    return dataframe\n",
    "    # once hot encode and add new cols to dataframe\n",
    "def oneHotEncode_df(dataframe):\n",
    "    dataframe = colsToDrop(dataframe)\n",
    "    col2Encode = list(dataframe.select_dtypes(include=['object'])) #gets a list of all the features that are objects assumption is that those are categorical\n",
    "    dummies = pd.get_dummies(dataframe,columns=col2Encode,prefix=col2Encode,sparse=True)\n",
    "    res = pd.concat([dataframe, dummies], axis=1)\n",
    "    #if we decide to drop one hot encoded values\n",
    "    res = res.drop(col2Encode, axis=1)\n",
    "    output = dropDuplicates(res)\n",
    "    return output"
   ]
  },
  {
   "cell_type": "code",
   "execution_count": 7,
   "metadata": {},
   "outputs": [],
   "source": [
    "#sample before ohe\n",
    "def getCategoricalIndices(dataframe):\n",
    "    #get the indices of all the categorical variables\n",
    "    numericalVar = list(dataframe.select_dtypes(include=['float64']))\n",
    "    catlist = list(dataframe.columns.difference(numericalVar))\n",
    "    print(catlist)\n",
    "    indlist = []\n",
    "    for i in catlist:\n",
    "        indlist.append(dataframe.columns.get_loc(i))\n",
    "    return indlist"
   ]
  },
  {
   "cell_type": "code",
   "execution_count": 8,
   "metadata": {},
   "outputs": [
    {
     "output_type": "stream",
     "name": "stdout",
     "text": [
      "dropping the outcome column\ndropping Combined_Key\ndropping date\n['age', 'country', 'province', 'sex']\n"
     ]
    }
   ],
   "source": [
    "sparse_df = colsToDrop(df)\n",
    "catIndList = getCategoricalIndices(sparse_df)"
   ]
  },
  {
   "cell_type": "code",
   "execution_count": 9,
   "metadata": {},
   "outputs": [],
   "source": [
    "%%time\n",
    "#oversample \n",
    "oversample = SMOTENC(categorical_features=catIndList,random_state=0,sampling_strategy='not majority')\n",
    "x_o,y_o = oversample.fit_resample(sparse_df,df.outcome)"
   ]
  },
  {
   "cell_type": "code",
   "execution_count": 1,
   "metadata": {},
   "outputs": [
    {
     "output_type": "error",
     "ename": "NameError",
     "evalue": "name 'x_o' is not defined",
     "traceback": [
      "\u001b[0;31m---------------------------------------------------------------------------\u001b[0m",
      "\u001b[0;31mNameError\u001b[0m                                 Traceback (most recent call last)",
      "\u001b[0;32m<ipython-input-1-d7c4e663497a>\u001b[0m in \u001b[0;36m<module>\u001b[0;34m\u001b[0m\n\u001b[0;32m----> 1\u001b[0;31m \u001b[0mlen\u001b[0m\u001b[0;34m(\u001b[0m\u001b[0mx_o\u001b[0m\u001b[0;34m)\u001b[0m\u001b[0;34m\u001b[0m\u001b[0;34m\u001b[0m\u001b[0m\n\u001b[0m",
      "\u001b[0;31mNameError\u001b[0m: name 'x_o' is not defined"
     ]
    }
   ],
   "source": [
    "len(x_o)"
   ]
  },
  {
   "cell_type": "code",
   "execution_count": 17,
   "metadata": {},
   "outputs": [
    {
     "output_type": "stream",
     "name": "stdout",
     "text": [
      "dropping the outcome column\n",
      "dropping Combined_Key\n",
      "dropping date\n",
      "CPU times: user 744 ms, sys: 10.9 ms, total: 755 ms\n",
      "Wall time: 753 ms\n"
     ]
    },
    {
     "output_type": "execute_result",
     "data": {
      "text/plain": [
       "            Confirmed       Deaths      Recovered        Active  \\\n",
       "0       238828.000000  4907.000000  201671.000000  32250.000000   \n",
       "1       342788.000000  4869.000000  270094.000000  67825.000000   \n",
       "2         2859.000000     2.000000    2639.000000    218.000000   \n",
       "3        46779.000000  1871.000000   41228.000000   3680.000000   \n",
       "4       120336.000000  3286.000000  100974.000000  16076.000000   \n",
       "...               ...          ...            ...           ...   \n",
       "367629  106331.902334  2739.064287   77838.956438  25753.923921   \n",
       "367630  238828.000000  4907.000000  201671.000000  32250.000000   \n",
       "367631    2859.000000     2.000000    2639.000000    218.000000   \n",
       "367632   57558.000000    27.000000   57142.000000    389.000000   \n",
       "367633   33299.000000  1911.000000       0.000000  31388.000000   \n",
       "\n",
       "        Incidence_Rate  Case-Fatality_Ratio  age_1  age_2  age_3  age_4  ...  \\\n",
       "0          1276.409575             2.054617      0      0      0      0  ...   \n",
       "1           144.099577             1.420411      0      0      0      0  ...   \n",
       "2           464.331421             0.069955      0      0      0      0  ...   \n",
       "3           422.592353             3.999658      0      0      1      0  ...   \n",
       "4           188.400627             2.730687      0      0      0      0  ...   \n",
       "...                ...                  ...    ...    ...    ...    ...  ...   \n",
       "367629      968.698456             2.721038      0      0      1      0  ...   \n",
       "367630     1276.409575             2.054617      0      0      0      0  ...   \n",
       "367631      464.331421             0.069955      0      0      0      0  ...   \n",
       "367632      983.839751             0.046909      0      0      1      0  ...   \n",
       "367633     1625.927734             5.738911      1      0      0      0  ...   \n",
       "\n",
       "        country_Uganda  country_Ukraine  country_United Arab Emirates  \\\n",
       "0                    0                0                             0   \n",
       "1                    0                0                             0   \n",
       "2                    0                0                             0   \n",
       "3                    0                0                             0   \n",
       "4                    0                0                             0   \n",
       "...                ...              ...                           ...   \n",
       "367629               0                0                             0   \n",
       "367630               0                0                             0   \n",
       "367631               0                0                             0   \n",
       "367632               0                0                             0   \n",
       "367633               0                0                             0   \n",
       "\n",
       "        country_United Kingdom  country_United States  country_Uruguay  \\\n",
       "0                            0                      0                0   \n",
       "1                            0                      0                0   \n",
       "2                            0                      0                0   \n",
       "3                            0                      0                0   \n",
       "4                            0                      0                0   \n",
       "...                        ...                    ...              ...   \n",
       "367629                       0                      0                0   \n",
       "367630                       0                      0                0   \n",
       "367631                       0                      0                0   \n",
       "367632                       0                      0                0   \n",
       "367633                       0                      0                0   \n",
       "\n",
       "        country_Venezuela  country_Vietnam  country_Zambia  country_Zimbabwe  \n",
       "0                       0                0               0                 0  \n",
       "1                       0                0               0                 0  \n",
       "2                       0                0               0                 0  \n",
       "3                       0                0               0                 0  \n",
       "4                       0                0               0                 0  \n",
       "...                   ...              ...             ...               ...  \n",
       "367629                  0                0               0                 0  \n",
       "367630                  0                0               0                 0  \n",
       "367631                  0                0               0                 0  \n",
       "367632                  0                0               0                 0  \n",
       "367633                  0                0               0                 0  \n",
       "\n",
       "[367634 rows x 1255 columns]"
      ],
      "text/html": "<div>\n<style scoped>\n    .dataframe tbody tr th:only-of-type {\n        vertical-align: middle;\n    }\n\n    .dataframe tbody tr th {\n        vertical-align: top;\n    }\n\n    .dataframe thead th {\n        text-align: right;\n    }\n</style>\n<table border=\"1\" class=\"dataframe\">\n  <thead>\n    <tr style=\"text-align: right;\">\n      <th></th>\n      <th>Confirmed</th>\n      <th>Deaths</th>\n      <th>Recovered</th>\n      <th>Active</th>\n      <th>Incidence_Rate</th>\n      <th>Case-Fatality_Ratio</th>\n      <th>age_1</th>\n      <th>age_2</th>\n      <th>age_3</th>\n      <th>age_4</th>\n      <th>...</th>\n      <th>country_Uganda</th>\n      <th>country_Ukraine</th>\n      <th>country_United Arab Emirates</th>\n      <th>country_United Kingdom</th>\n      <th>country_United States</th>\n      <th>country_Uruguay</th>\n      <th>country_Venezuela</th>\n      <th>country_Vietnam</th>\n      <th>country_Zambia</th>\n      <th>country_Zimbabwe</th>\n    </tr>\n  </thead>\n  <tbody>\n    <tr>\n      <th>0</th>\n      <td>238828.000000</td>\n      <td>4907.000000</td>\n      <td>201671.000000</td>\n      <td>32250.000000</td>\n      <td>1276.409575</td>\n      <td>2.054617</td>\n      <td>0</td>\n      <td>0</td>\n      <td>0</td>\n      <td>0</td>\n      <td>...</td>\n      <td>0</td>\n      <td>0</td>\n      <td>0</td>\n      <td>0</td>\n      <td>0</td>\n      <td>0</td>\n      <td>0</td>\n      <td>0</td>\n      <td>0</td>\n      <td>0</td>\n    </tr>\n    <tr>\n      <th>1</th>\n      <td>342788.000000</td>\n      <td>4869.000000</td>\n      <td>270094.000000</td>\n      <td>67825.000000</td>\n      <td>144.099577</td>\n      <td>1.420411</td>\n      <td>0</td>\n      <td>0</td>\n      <td>0</td>\n      <td>0</td>\n      <td>...</td>\n      <td>0</td>\n      <td>0</td>\n      <td>0</td>\n      <td>0</td>\n      <td>0</td>\n      <td>0</td>\n      <td>0</td>\n      <td>0</td>\n      <td>0</td>\n      <td>0</td>\n    </tr>\n    <tr>\n      <th>2</th>\n      <td>2859.000000</td>\n      <td>2.000000</td>\n      <td>2639.000000</td>\n      <td>218.000000</td>\n      <td>464.331421</td>\n      <td>0.069955</td>\n      <td>0</td>\n      <td>0</td>\n      <td>0</td>\n      <td>0</td>\n      <td>...</td>\n      <td>0</td>\n      <td>0</td>\n      <td>0</td>\n      <td>0</td>\n      <td>0</td>\n      <td>0</td>\n      <td>0</td>\n      <td>0</td>\n      <td>0</td>\n      <td>0</td>\n    </tr>\n    <tr>\n      <th>3</th>\n      <td>46779.000000</td>\n      <td>1871.000000</td>\n      <td>41228.000000</td>\n      <td>3680.000000</td>\n      <td>422.592353</td>\n      <td>3.999658</td>\n      <td>0</td>\n      <td>0</td>\n      <td>1</td>\n      <td>0</td>\n      <td>...</td>\n      <td>0</td>\n      <td>0</td>\n      <td>0</td>\n      <td>0</td>\n      <td>0</td>\n      <td>0</td>\n      <td>0</td>\n      <td>0</td>\n      <td>0</td>\n      <td>0</td>\n    </tr>\n    <tr>\n      <th>4</th>\n      <td>120336.000000</td>\n      <td>3286.000000</td>\n      <td>100974.000000</td>\n      <td>16076.000000</td>\n      <td>188.400627</td>\n      <td>2.730687</td>\n      <td>0</td>\n      <td>0</td>\n      <td>0</td>\n      <td>0</td>\n      <td>...</td>\n      <td>0</td>\n      <td>0</td>\n      <td>0</td>\n      <td>0</td>\n      <td>0</td>\n      <td>0</td>\n      <td>0</td>\n      <td>0</td>\n      <td>0</td>\n      <td>0</td>\n    </tr>\n    <tr>\n      <th>...</th>\n      <td>...</td>\n      <td>...</td>\n      <td>...</td>\n      <td>...</td>\n      <td>...</td>\n      <td>...</td>\n      <td>...</td>\n      <td>...</td>\n      <td>...</td>\n      <td>...</td>\n      <td>...</td>\n      <td>...</td>\n      <td>...</td>\n      <td>...</td>\n      <td>...</td>\n      <td>...</td>\n      <td>...</td>\n      <td>...</td>\n      <td>...</td>\n      <td>...</td>\n      <td>...</td>\n    </tr>\n    <tr>\n      <th>367629</th>\n      <td>106331.902334</td>\n      <td>2739.064287</td>\n      <td>77838.956438</td>\n      <td>25753.923921</td>\n      <td>968.698456</td>\n      <td>2.721038</td>\n      <td>0</td>\n      <td>0</td>\n      <td>1</td>\n      <td>0</td>\n      <td>...</td>\n      <td>0</td>\n      <td>0</td>\n      <td>0</td>\n      <td>0</td>\n      <td>0</td>\n      <td>0</td>\n      <td>0</td>\n      <td>0</td>\n      <td>0</td>\n      <td>0</td>\n    </tr>\n    <tr>\n      <th>367630</th>\n      <td>238828.000000</td>\n      <td>4907.000000</td>\n      <td>201671.000000</td>\n      <td>32250.000000</td>\n      <td>1276.409575</td>\n      <td>2.054617</td>\n      <td>0</td>\n      <td>0</td>\n      <td>0</td>\n      <td>0</td>\n      <td>...</td>\n      <td>0</td>\n      <td>0</td>\n      <td>0</td>\n      <td>0</td>\n      <td>0</td>\n      <td>0</td>\n      <td>0</td>\n      <td>0</td>\n      <td>0</td>\n      <td>0</td>\n    </tr>\n    <tr>\n      <th>367631</th>\n      <td>2859.000000</td>\n      <td>2.000000</td>\n      <td>2639.000000</td>\n      <td>218.000000</td>\n      <td>464.331421</td>\n      <td>0.069955</td>\n      <td>0</td>\n      <td>0</td>\n      <td>0</td>\n      <td>0</td>\n      <td>...</td>\n      <td>0</td>\n      <td>0</td>\n      <td>0</td>\n      <td>0</td>\n      <td>0</td>\n      <td>0</td>\n      <td>0</td>\n      <td>0</td>\n      <td>0</td>\n      <td>0</td>\n    </tr>\n    <tr>\n      <th>367632</th>\n      <td>57558.000000</td>\n      <td>27.000000</td>\n      <td>57142.000000</td>\n      <td>389.000000</td>\n      <td>983.839751</td>\n      <td>0.046909</td>\n      <td>0</td>\n      <td>0</td>\n      <td>1</td>\n      <td>0</td>\n      <td>...</td>\n      <td>0</td>\n      <td>0</td>\n      <td>0</td>\n      <td>0</td>\n      <td>0</td>\n      <td>0</td>\n      <td>0</td>\n      <td>0</td>\n      <td>0</td>\n      <td>0</td>\n    </tr>\n    <tr>\n      <th>367633</th>\n      <td>33299.000000</td>\n      <td>1911.000000</td>\n      <td>0.000000</td>\n      <td>31388.000000</td>\n      <td>1625.927734</td>\n      <td>5.738911</td>\n      <td>1</td>\n      <td>0</td>\n      <td>0</td>\n      <td>0</td>\n      <td>...</td>\n      <td>0</td>\n      <td>0</td>\n      <td>0</td>\n      <td>0</td>\n      <td>0</td>\n      <td>0</td>\n      <td>0</td>\n      <td>0</td>\n      <td>0</td>\n      <td>0</td>\n    </tr>\n  </tbody>\n</table>\n<p>367634 rows × 1255 columns</p>\n</div>"
     },
     "metadata": {},
     "execution_count": 17
    }
   ],
   "source": [
    "%%time\n",
    "# add dummy variables  \n",
    "ohe_df = oneHotEncode_df(df)\n",
    "ohe_df"
   ]
  },
  {
   "cell_type": "code",
   "execution_count": 18,
   "metadata": {},
   "outputs": [],
   "source": [
    "#get the indices of all the categorical variables\n",
    "numericalVar = list(ohe_df.select_dtypes(include=['float64']))\n",
    "catlist = list(ohe_df.columns.difference(numericalVar))\n",
    "indlist = []\n",
    "for i in catlist:\n",
    "    indlist.append(ohe_df.columns.get_loc(i))"
   ]
  },
  {
   "cell_type": "code",
   "execution_count": 19,
   "metadata": {},
   "outputs": [
    {
     "output_type": "execute_result",
     "data": {
      "text/plain": [
       "1249"
      ]
     },
     "metadata": {},
     "execution_count": 19
    }
   ],
   "source": [
    "len(indlist)"
   ]
  },
  {
   "cell_type": "code",
   "execution_count": 20,
   "metadata": {},
   "outputs": [],
   "source": [
    "x = ohe_df.copy()\n",
    "y = df.outcome.copy()"
   ]
  },
  {
   "cell_type": "code",
   "execution_count": 21,
   "metadata": {},
   "outputs": [
    {
     "output_type": "stream",
     "name": "stderr",
     "text": [
      "/home/olay/Cmpt459/DoR459_Proj/venv/lib/python3.8/site-packages/sklearn/utils/validation.py:515: UserWarning: pandas.DataFrame with sparse columns found.It will be converted to a dense numpy array.\n  warnings.warn(\n"
     ]
    }
   ],
   "source": []
  },
  {
   "cell_type": "code",
   "execution_count": 1,
   "metadata": {},
   "outputs": [
    {
     "output_type": "error",
     "ename": "NameError",
     "evalue": "name 'y_o' is not defined",
     "traceback": [
      "\u001b[0;31m---------------------------------------------------------------------------\u001b[0m",
      "\u001b[0;31mNameError\u001b[0m                                 Traceback (most recent call last)",
      "\u001b[0;32m<ipython-input-1-8c5357663652>\u001b[0m in \u001b[0;36m<module>\u001b[0;34m\u001b[0m\n\u001b[0;32m----> 1\u001b[0;31m \u001b[0mlen\u001b[0m\u001b[0;34m(\u001b[0m\u001b[0my_o\u001b[0m\u001b[0;34m)\u001b[0m\u001b[0;34m\u001b[0m\u001b[0;34m\u001b[0m\u001b[0m\n\u001b[0m",
      "\u001b[0;31mNameError\u001b[0m: name 'y_o' is not defined"
     ]
    }
   ],
   "source": [
    "len(y_o)"
   ]
  },
  {
   "cell_type": "code",
   "execution_count": 35,
   "metadata": {
    "tags": [
     "outputPrepend"
    ]
   },
   "outputs": [
    {
     "output_type": "error",
     "ename": "Error",
     "evalue": "Pip module Unable to parse debugpy output, please log an issue with https://github.com/microsoft/vscode-jupyter is required for debugging cells. You will need to install it to debug cells.",
     "traceback": [
      "Error: Pip module Unable to parse debugpy output, please log an issue with https://github.com/microsoft/vscode-jupyter is required for debugging cells. You will need to install it to debug cells.",
      "at b.parseConnectInfo (/home/olay/.vscode/extensions/ms-toolsai.jupyter-2021.5.745244803/out/client/extension.js:49:478177)",
      "at b.connectToLocal (/home/olay/.vscode/extensions/ms-toolsai.jupyter-2021.5.745244803/out/client/extension.js:49:478704)",
      "at runMicrotasks (<anonymous>)",
      "at processTicksAndRejections (internal/process/task_queues.js:97:5)",
      "at async b.connect (/home/olay/.vscode/extensions/ms-toolsai.jupyter-2021.5.745244803/out/client/extension.js:49:476581)",
      "at async b.startDebugSession (/home/olay/.vscode/extensions/ms-toolsai.jupyter-2021.5.745244803/out/client/extension.js:49:475728)",
      "at async T.submitCode (/home/olay/.vscode/extensions/ms-toolsai.jupyter-2021.5.745244803/out/client/extension.js:32:663261)",
      "at async T.handleRunByLine (/home/olay/.vscode/extensions/ms-toolsai.jupyter-2021.5.745244803/out/client/extension.js:32:651205)"
     ]
    }
   ],
   "source": [
    "%%time\n",
    "#transform data\n",
    "oversample = SMOTENC(categorical_features=indlist,random_state=0,sampling_strategy='not majority')\n",
    "undersample = RandomUnderSampler()\n",
    "rfclassifier = RandomForestClassifier(n_estimators=25,random_state=0)\n",
    "#define pipeline\n",
    "steps = [('over',oversample),('under',undersample),('model',rfclassifier)]\n",
    "pipeline = Pipeline(steps=steps)\n",
    "#eval pipeline\n",
    "cv = RepeatedStratifiedKFold(n_splits=10, n_repeats=2,random_state=0)\n",
    "scores = cross_val_score(pipeline,x,y,scoring='f1',cv=cv,n_jobs=1)\n",
    "print('Mean F1: %.3f' %mean(scores))\n"
   ]
  },
  {
   "cell_type": "code",
   "execution_count": 1,
   "metadata": {},
   "outputs": [
    {
     "output_type": "error",
     "ename": "NameError",
     "evalue": "name 'enc' is not defined",
     "traceback": [
      "\u001b[0;31m---------------------------------------------------------------------------\u001b[0m",
      "\u001b[0;31mNameError\u001b[0m                                 Traceback (most recent call last)",
      "\u001b[0;32m<ipython-input-1-7e9b9efa47cc>\u001b[0m in \u001b[0;36m<module>\u001b[0;34m\u001b[0m\n\u001b[1;32m      1\u001b[0m \u001b[0msumm\u001b[0m \u001b[0;34m=\u001b[0m \u001b[0;36m0\u001b[0m\u001b[0;34m\u001b[0m\u001b[0;34m\u001b[0m\u001b[0m\n\u001b[0;32m----> 2\u001b[0;31m \u001b[0;32mfor\u001b[0m \u001b[0mi\u001b[0m \u001b[0;32min\u001b[0m \u001b[0mrange\u001b[0m\u001b[0;34m(\u001b[0m\u001b[0mlen\u001b[0m\u001b[0;34m(\u001b[0m\u001b[0menc\u001b[0m\u001b[0;34m.\u001b[0m\u001b[0mcategories_\u001b[0m\u001b[0;34m)\u001b[0m\u001b[0;34m)\u001b[0m\u001b[0;34m:\u001b[0m\u001b[0;34m\u001b[0m\u001b[0;34m\u001b[0m\u001b[0m\n\u001b[0m\u001b[1;32m      3\u001b[0m     \u001b[0mprint\u001b[0m\u001b[0;34m(\u001b[0m\u001b[0mlen\u001b[0m\u001b[0;34m(\u001b[0m\u001b[0menc\u001b[0m\u001b[0;34m.\u001b[0m\u001b[0mcategories_\u001b[0m\u001b[0;34m[\u001b[0m\u001b[0mi\u001b[0m\u001b[0;34m]\u001b[0m\u001b[0;34m)\u001b[0m\u001b[0;34m)\u001b[0m\u001b[0;34m\u001b[0m\u001b[0;34m\u001b[0m\u001b[0m\n\u001b[1;32m      4\u001b[0m     \u001b[0msumm\u001b[0m\u001b[0;34m+=\u001b[0m\u001b[0mlen\u001b[0m\u001b[0;34m(\u001b[0m\u001b[0menc\u001b[0m\u001b[0;34m.\u001b[0m\u001b[0mcategories_\u001b[0m\u001b[0;34m[\u001b[0m\u001b[0mi\u001b[0m\u001b[0;34m]\u001b[0m\u001b[0;34m)\u001b[0m\u001b[0;34m\u001b[0m\u001b[0;34m\u001b[0m\u001b[0m\n\u001b[1;32m      5\u001b[0m \u001b[0mprint\u001b[0m\u001b[0;34m(\u001b[0m\u001b[0;34m'Total Sum is '\u001b[0m\u001b[0;34m,\u001b[0m\u001b[0msumm\u001b[0m\u001b[0;34m)\u001b[0m\u001b[0;34m\u001b[0m\u001b[0;34m\u001b[0m\u001b[0m\n",
      "\u001b[0;31mNameError\u001b[0m: name 'enc' is not defined"
     ]
    }
   ],
   "source": [
    "ohe_np = ohe_df.to_numpy()\n",
    "ohe_np\n",
    "# summ = 0\n",
    "# for i in range(len(enc.categories_)):\n",
    "#     print(len(enc.categories_[i]))\n",
    "#     summ+=len(enc.categories_[i])\n",
    "# print('Total Sum is ',summ)"
   ]
  },
  {
   "source": [
    "# END oF SAMPLING SECTION\n",
    "#########################################################################################################################33"
   ],
   "cell_type": "markdown",
   "metadata": {}
  },
  {
   "cell_type": "code",
   "execution_count": 4,
   "metadata": {},
   "outputs": [],
   "source": [
    "res = enc.fit(df.drop('outcome',1))\n",
    "res = res.transform(df.drop('outcome',1)).toarray()"
   ]
  },
  {
   "cell_type": "code",
   "execution_count": 57,
   "metadata": {},
   "outputs": [],
   "source": [
    "X = res\n",
    "y = df['outcome'].values\n",
    "X_train, X_test, y_train, y_test = train_test_split(X, y, test_size=0.2)"
   ]
  },
  {
   "cell_type": "code",
   "execution_count": 43,
   "metadata": {
    "scrolled": false
   },
   "outputs": [
    {
     "name": "stderr",
     "output_type": "stream",
     "text": [
      "C:\\Users\\Oliver Fujiki\\anaconda3\\lib\\site-packages\\xgboost\\sklearn.py:888: UserWarning: The use of label encoder in XGBClassifier is deprecated and will be removed in a future release. To remove this warning, do the following: 1) Pass option use_label_encoder=False when constructing XGBClassifier object; and 2) Encode your labels (y) as integers starting with 0, i.e. 0, 1, 2, ..., [num_class - 1].\n",
      "  warnings.warn(label_encoder_deprecation_msg, UserWarning)\n"
     ]
    },
    {
     "name": "stdout",
     "output_type": "stream",
     "text": [
      "[23:17:48] WARNING: C:/Users/Administrator/workspace/xgboost-win64_release_1.3.0/src/learner.cc:1061: Starting in XGBoost 1.3.0, the default evaluation metric used with the objective 'multi:softprob' was changed from 'merror' to 'mlogloss'. Explicitly set eval_metric if you'd like to restore the old behavior.\n"
     ]
    }
   ],
   "source": [
    "xgb_model = xgb.XGBClassifier(n_estimators=50)\n",
    "xgb_model.fit(X_train,y_train)\n",
    "pickle.dump( xgb_model, open( \"../models/xgboost50.pkl\", \"wb\" ) )"
   ]
  },
  {
   "cell_type": "code",
   "execution_count": 58,
   "metadata": {
    "scrolled": true
   },
   "outputs": [],
   "source": [
    "trueXGBoost = pickle.load( open( '../models/xgboost50.pkl', \"rb\" ) )\n",
    "XGprediction = list(trueXGBoost.predict(X_test))\n",
    "xgConfusionMatrix = confusion_matrix(y_test, XGprediction, labels=[\"recovered\",\"nonhospitalized\",\"hospitalized\",\"deceased\"])"
   ]
  },
  {
   "cell_type": "code",
   "execution_count": 59,
   "metadata": {
    "scrolled": true
   },
   "outputs": [
    {
     "data": {
      "text/html": [
       "<div>\n",
       "<style scoped>\n",
       "    .dataframe tbody tr th:only-of-type {\n",
       "        vertical-align: middle;\n",
       "    }\n",
       "\n",
       "    .dataframe tbody tr th {\n",
       "        vertical-align: top;\n",
       "    }\n",
       "\n",
       "    .dataframe thead th {\n",
       "        text-align: right;\n",
       "    }\n",
       "</style>\n",
       "<table border=\"1\" class=\"dataframe\">\n",
       "  <thead>\n",
       "    <tr style=\"text-align: right;\">\n",
       "      <th></th>\n",
       "      <th>recovered</th>\n",
       "      <th>nonhospitalized</th>\n",
       "      <th>hospitalized</th>\n",
       "      <th>deceased</th>\n",
       "    </tr>\n",
       "  </thead>\n",
       "  <tbody>\n",
       "    <tr>\n",
       "      <th>recovered</th>\n",
       "      <td>5888</td>\n",
       "      <td>376</td>\n",
       "      <td>11440</td>\n",
       "      <td>7</td>\n",
       "    </tr>\n",
       "    <tr>\n",
       "      <th>nonhospitalized</th>\n",
       "      <td>92</td>\n",
       "      <td>29942</td>\n",
       "      <td>10</td>\n",
       "      <td>5</td>\n",
       "    </tr>\n",
       "    <tr>\n",
       "      <th>hospitalized</th>\n",
       "      <td>999</td>\n",
       "      <td>5</td>\n",
       "      <td>23881</td>\n",
       "      <td>3</td>\n",
       "    </tr>\n",
       "    <tr>\n",
       "      <th>deceased</th>\n",
       "      <td>87</td>\n",
       "      <td>79</td>\n",
       "      <td>683</td>\n",
       "      <td>30</td>\n",
       "    </tr>\n",
       "  </tbody>\n",
       "</table>\n",
       "</div>"
      ],
      "text/plain": [
       "                 recovered  nonhospitalized  hospitalized  deceased\n",
       "recovered             5888              376         11440         7\n",
       "nonhospitalized         92            29942            10         5\n",
       "hospitalized           999                5         23881         3\n",
       "deceased                87               79           683        30"
      ]
     },
     "execution_count": 59,
     "metadata": {},
     "output_type": "execute_result"
    }
   ],
   "source": [
    "pd.DataFrame(xgConfusionMatrix).rename(index = {0:\"recovered\", 1: \"nonhospitalized\", 2: \"hospitalized\", 3: \"deceased\"}, columns = {0:\"recovered\", 1: \"nonhospitalized\", 2: \"hospitalized\", 3: \"deceased\"})"
   ]
  },
  {
   "cell_type": "code",
   "execution_count": 46,
   "metadata": {},
   "outputs": [],
   "source": [
    "clf = AdaBoostClassifier(n_estimators=10, random_state=0)\n",
    "clf.fit(X_train, y_train)\n",
    "pickle.dump( clf, open( \"../models/AdaBoost10.pkl\", \"wb\" ) )"
   ]
  },
  {
   "cell_type": "code",
   "execution_count": 63,
   "metadata": {},
   "outputs": [],
   "source": [
    "trueAdaBoost = pickle.load( open( '../models/AdaBoost10.pkl', \"rb\" ) )\n",
    "adaBoostprediction = list(trueAdaBoost.predict(X_test))\n",
    "adaConfusionMatrix = confusion_matrix(y_test, adaBoostprediction, labels=[\"recovered\",\"nonhospitalized\",\"hospitalized\",\"deceased\"])"
   ]
  },
  {
   "cell_type": "code",
   "execution_count": 64,
   "metadata": {
    "scrolled": true
   },
   "outputs": [
    {
     "data": {
      "text/html": [
       "<div>\n",
       "<style scoped>\n",
       "    .dataframe tbody tr th:only-of-type {\n",
       "        vertical-align: middle;\n",
       "    }\n",
       "\n",
       "    .dataframe tbody tr th {\n",
       "        vertical-align: top;\n",
       "    }\n",
       "\n",
       "    .dataframe thead th {\n",
       "        text-align: right;\n",
       "    }\n",
       "</style>\n",
       "<table border=\"1\" class=\"dataframe\">\n",
       "  <thead>\n",
       "    <tr style=\"text-align: right;\">\n",
       "      <th></th>\n",
       "      <th>recovered</th>\n",
       "      <th>nonhospitalized</th>\n",
       "      <th>hospitalized</th>\n",
       "      <th>deceased</th>\n",
       "    </tr>\n",
       "  </thead>\n",
       "  <tbody>\n",
       "    <tr>\n",
       "      <th>recovered</th>\n",
       "      <td>843</td>\n",
       "      <td>782</td>\n",
       "      <td>16086</td>\n",
       "      <td>0</td>\n",
       "    </tr>\n",
       "    <tr>\n",
       "      <th>nonhospitalized</th>\n",
       "      <td>3</td>\n",
       "      <td>30046</td>\n",
       "      <td>0</td>\n",
       "      <td>0</td>\n",
       "    </tr>\n",
       "    <tr>\n",
       "      <th>hospitalized</th>\n",
       "      <td>531</td>\n",
       "      <td>38</td>\n",
       "      <td>24319</td>\n",
       "      <td>0</td>\n",
       "    </tr>\n",
       "    <tr>\n",
       "      <th>deceased</th>\n",
       "      <td>23</td>\n",
       "      <td>140</td>\n",
       "      <td>716</td>\n",
       "      <td>0</td>\n",
       "    </tr>\n",
       "  </tbody>\n",
       "</table>\n",
       "</div>"
      ],
      "text/plain": [
       "                 recovered  nonhospitalized  hospitalized  deceased\n",
       "recovered              843              782         16086         0\n",
       "nonhospitalized          3            30046             0         0\n",
       "hospitalized           531               38         24319         0\n",
       "deceased                23              140           716         0"
      ]
     },
     "execution_count": 64,
     "metadata": {},
     "output_type": "execute_result"
    }
   ],
   "source": [
    "pd.DataFrame(adaConfusionMatrix).rename(index = {0:\"recovered\", 1: \"nonhospitalized\", 2: \"hospitalized\", 3: \"deceased\"}, columns = {0:\"recovered\", 1: \"nonhospitalized\", 2: \"hospitalized\", 3: \"deceased\"})"
   ]
  },
  {
   "cell_type": "code",
   "execution_count": 60,
   "metadata": {},
   "outputs": [],
   "source": [
    "clf = RandomForestClassifier(n_estimators=25, random_state=0) \n",
    "clf.fit(X_train, y_train)\n",
    "pickle.dump( clf, open( \"../models/RandomForest25.pkl\", \"wb\" ) )"
   ]
  },
  {
   "cell_type": "code",
   "execution_count": 61,
   "metadata": {},
   "outputs": [],
   "source": [
    "trueRandomForest = pickle.load( open( '../models/RandomForest25.pkl', \"rb\" ) )\n",
    "randomForestprediction = list(trueRandomForest.predict(X_test))\n",
    "randomForestConfusionMatrix = confusion_matrix(y_test, randomForestprediction, labels=[\"recovered\",\"nonhospitalized\",\"hospitalized\",\"deceased\"])"
   ]
  },
  {
   "cell_type": "code",
   "execution_count": 62,
   "metadata": {},
   "outputs": [
    {
     "data": {
      "text/html": [
       "<div>\n",
       "<style scoped>\n",
       "    .dataframe tbody tr th:only-of-type {\n",
       "        vertical-align: middle;\n",
       "    }\n",
       "\n",
       "    .dataframe tbody tr th {\n",
       "        vertical-align: top;\n",
       "    }\n",
       "\n",
       "    .dataframe thead th {\n",
       "        text-align: right;\n",
       "    }\n",
       "</style>\n",
       "<table border=\"1\" class=\"dataframe\">\n",
       "  <thead>\n",
       "    <tr style=\"text-align: right;\">\n",
       "      <th></th>\n",
       "      <th>recovered</th>\n",
       "      <th>nonhospitalized</th>\n",
       "      <th>hospitalized</th>\n",
       "      <th>deceased</th>\n",
       "    </tr>\n",
       "  </thead>\n",
       "  <tbody>\n",
       "    <tr>\n",
       "      <th>recovered</th>\n",
       "      <td>10562</td>\n",
       "      <td>174</td>\n",
       "      <td>6955</td>\n",
       "      <td>20</td>\n",
       "    </tr>\n",
       "    <tr>\n",
       "      <th>nonhospitalized</th>\n",
       "      <td>182</td>\n",
       "      <td>29833</td>\n",
       "      <td>13</td>\n",
       "      <td>21</td>\n",
       "    </tr>\n",
       "    <tr>\n",
       "      <th>hospitalized</th>\n",
       "      <td>3324</td>\n",
       "      <td>4</td>\n",
       "      <td>21548</td>\n",
       "      <td>12</td>\n",
       "    </tr>\n",
       "    <tr>\n",
       "      <th>deceased</th>\n",
       "      <td>256</td>\n",
       "      <td>55</td>\n",
       "      <td>528</td>\n",
       "      <td>40</td>\n",
       "    </tr>\n",
       "  </tbody>\n",
       "</table>\n",
       "</div>"
      ],
      "text/plain": [
       "                 recovered  nonhospitalized  hospitalized  deceased\n",
       "recovered            10562              174          6955        20\n",
       "nonhospitalized        182            29833            13        21\n",
       "hospitalized          3324                4         21548        12\n",
       "deceased               256               55           528        40"
      ]
     },
     "execution_count": 62,
     "metadata": {},
     "output_type": "execute_result"
    }
   ],
   "source": [
    "pd.DataFrame(randomForestConfusionMatrix).rename(index = {0:\"recovered\", 1: \"nonhospitalized\", 2: \"hospitalized\", 3: \"deceased\"}, columns = {0:\"recovered\", 1: \"nonhospitalized\", 2: \"hospitalized\", 3: \"deceased\"})"
   ]
  }
 ],
 "metadata": {
  "kernelspec": {
   "name": "python385jvsc74a57bd0247f7c4618e76eff7c429aa197a3125858b521fb51aeb6b0f2942bd7114151ad",
   "display_name": "Python 3.8.5 64-bit ('venv')"
  },
  "language_info": {
   "codemirror_mode": {
    "name": "ipython",
    "version": 3
   },
   "file_extension": ".py",
   "mimetype": "text/x-python",
   "name": "python",
   "nbconvert_exporter": "python",
   "pygments_lexer": "ipython3",
   "version": "3.8.5-final"
  },
  "metadata": {
   "interpreter": {
    "hash": "247f7c4618e76eff7c429aa197a3125858b521fb51aeb6b0f2942bd7114151ad"
   }
  }
 },
 "nbformat": 4,
 "nbformat_minor": 4
}