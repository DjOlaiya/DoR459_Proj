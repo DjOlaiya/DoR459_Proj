{
 "metadata": {
  "language_info": {
   "codemirror_mode": {
    "name": "ipython",
    "version": 3
   },
   "file_extension": ".py",
   "mimetype": "text/x-python",
   "name": "python",
   "nbconvert_exporter": "python",
   "pygments_lexer": "ipython3",
   "version": "3.8.5-final"
  },
  "orig_nbformat": 2,
  "kernelspec": {
   "name": "python3",
   "display_name": "Python 3.8.5 64-bit ('venv')",
   "metadata": {
    "interpreter": {
     "hash": "2f28616dab261a78371df4eb1b51b3befdef1517e49626dc024fabce261dfd92"
    }
   }
  }
 },
 "nbformat": 4,
 "nbformat_minor": 2,
 "cells": [
  {
   "source": [
    "# Milestone 2\n",
    "## 2.1 and 2.2 Split Train Dataset, Build and Evaluate a Model"
   ],
   "cell_type": "markdown",
   "metadata": {}
  },
  {
   "cell_type": "code",
   "execution_count": 2,
   "metadata": {},
   "outputs": [],
   "source": [
    "import collections as c\n",
    "import datetime\n",
    "from IPython.core.interactiveshell import InteractiveShell\n",
    "import matplotlib as mp\n",
    "import numpy as np\n",
    "import pandas as pd\n",
    "import seaborn as sns\n",
    "from sklearn.ensemble import RandomForestClassifier\n",
    "from sklearn.metrics import accuracy_score, confusion_matrix\n",
    "from sklearn import svm, tree\n",
    "from sklearn.model_selection import train_test_split\n",
    "from sklearn.preprocessing import OneHotEncoder\n",
    "from tqdm import tqdm #creates progress bar to let you know how long is left till function is complete\n",
    "import xgboost as xgb\n",
    "\n",
    "InteractiveShell.ast_node_interactivity = 'all'"
   ]
  },
  {
   "cell_type": "code",
   "execution_count": 3,
   "metadata": {},
   "outputs": [],
   "source": [
    "raw_data = pd.read_csv('../dataset/cases_train_processed.csv')"
   ]
  },
  {
   "cell_type": "code",
   "execution_count": 1,
   "metadata": {},
   "outputs": [
    {
     "output_type": "error",
     "ename": "NameError",
     "evalue": "name 'raw_data' is not defined",
     "traceback": [
      "\u001b[1;31m---------------------------------------------------------------------------\u001b[0m",
      "\u001b[1;31mNameError\u001b[0m                                 Traceback (most recent call last)",
      "\u001b[1;32m<ipython-input-1-d8b53b837f16>\u001b[0m in \u001b[0;36m<module>\u001b[1;34m\u001b[0m\n\u001b[1;32m----> 1\u001b[1;33m \u001b[0mraw_data\u001b[0m\u001b[1;33m.\u001b[0m\u001b[0misna\u001b[0m\u001b[1;33m(\u001b[0m\u001b[1;33m)\u001b[0m\u001b[1;33m.\u001b[0m\u001b[0msum\u001b[0m\u001b[1;33m(\u001b[0m\u001b[1;33m)\u001b[0m\u001b[1;33m\u001b[0m\u001b[1;33m\u001b[0m\u001b[0m\n\u001b[0m",
      "\u001b[1;31mNameError\u001b[0m: name 'raw_data' is not defined"
     ]
    }
   ],
   "source": [
    "raw_data.isna().sum()"
   ]
  },
  {
   "cell_type": "code",
   "execution_count": 4,
   "metadata": {},
   "outputs": [
    {
     "output_type": "stream",
     "name": "stdout",
     "text": [
      "<class 'pandas.core.frame.DataFrame'>\nRangeIndex: 367634 entries, 0 to 367633\nData columns (total 23 columns):\n #   Column                  Non-Null Count   Dtype  \n---  ------                  --------------   -----  \n 0   Unnamed: 0              367634 non-null  int64  \n 1   index                   367634 non-null  int64  \n 2   age                     367634 non-null  int64  \n 3   sex                     367634 non-null  object \n 4   province                367634 non-null  object \n 5   country                 367634 non-null  object \n 6   date_confirmation       367634 non-null  object \n 7   additional_information  367634 non-null  object \n 8   source                  367634 non-null  object \n 9   outcome                 367634 non-null  object \n 10  Province_State          334812 non-null  object \n 11  Country_Region          356275 non-null  object \n 12  Last_Update             356275 non-null  object \n 13  Lat_right               356275 non-null  float64\n 14  Long_right              356275 non-null  float64\n 15  Confirmed               356275 non-null  float64\n 16  Deaths                  356275 non-null  float64\n 17  Recovered               356275 non-null  float64\n 18  Active                  356275 non-null  float64\n 19  Combined_Key            356275 non-null  object \n 20  Incidence_Rate          356275 non-null  float64\n 21  Case-Fatality_Ratio     356275 non-null  float64\n 22  dist_between_in_km      367634 non-null  float64\ndtypes: float64(9), int64(3), object(11)\nmemory usage: 64.5+ MB\n"
     ]
    }
   ],
   "source": [
    "# this way I dont have to load data all the time\n",
    "df = raw_data.copy()\n",
    "df.info()"
   ]
  },
  {
   "cell_type": "code",
   "execution_count": 5,
   "metadata": {},
   "outputs": [
    {
     "output_type": "stream",
     "name": "stdout",
     "text": [
      "Wall time: 313 ms\n"
     ]
    }
   ],
   "source": [
    "%%time\n",
    "#remove nan values\n",
    "df = df.drop(['Unnamed: 0','index','source','additional_information','Last_Update','Lat_right','Long_right','Province_State','Country_Region'],1)\n",
    "df['Confirmed'].fillna(df['Confirmed'].mean(),inplace=True)\n",
    "df['Deaths'].fillna(df.Deaths.mean(),inplace=True)\n",
    "df['Recovered'].fillna(df.Recovered.mean(),inplace=True)\n",
    "df['Active'].fillna(df.Active.mean(),inplace=True)\n",
    "df['Incidence_Rate'].fillna(df.Incidence_Rate.mean(),inplace=True)\n",
    "df['Case-Fatality_Ratio'].fillna(df['Case-Fatality_Ratio'].mean(),inplace=True)\n",
    "df.date_confirmation = pd.to_datetime(df.date_confirmation,infer_datetime_format=True) \n",
    "df.Combined_Key.fillna((df.province+\" ,\"+df.country),inplace=True)\n"
   ]
  },
  {
   "cell_type": "code",
   "execution_count": 19,
   "metadata": {},
   "outputs": [
    {
     "output_type": "execute_result",
     "data": {
      "text/plain": [
       "age                    0\n",
       "sex                    0\n",
       "province               0\n",
       "country                0\n",
       "date_confirmation      0\n",
       "outcome                0\n",
       "Confirmed              0\n",
       "Deaths                 0\n",
       "Recovered              0\n",
       "Active                 0\n",
       "Combined_Key           0\n",
       "Incidence_Rate         0\n",
       "Case-Fatality_Ratio    0\n",
       "dist_between_in_km     0\n",
       "dtype: int64"
      ]
     },
     "metadata": {},
     "execution_count": 19
    }
   ],
   "source": [
    "df.isna().sum()"
   ]
  },
  {
   "source": [
    "# Exploratory Analysis"
   ],
   "cell_type": "markdown",
   "metadata": {}
  },
  {
   "cell_type": "code",
   "execution_count": null,
   "metadata": {},
   "outputs": [],
   "source": [
    "# exploratory analysis\n",
    "pie, ax = plt.subplots(figsize=[10,6])\n",
    "labels = countries.keys()\n",
    "plt.pie(x=countries, autopct=\"%.1f%%\", explode=[0.05]*len(countries), labels=labels, pctdistance=0.8)\n",
    "plt.title(\"Top 10 Countries\", fontsize=14);\n",
    "\n",
    "country_list = list(countries.keys())\n",
    "\n",
    "def fix_values(row):\n",
    "        if row['country'] not in country_list:\n",
    "            row['country'] = 'Other'\n",
    "        return row \n",
    "\n",
    "df_other = df.apply(fix_values, axis=1)\n",
    "countries_other = df_other['country'].value_counts()\n",
    "\n",
    "pie, ax = plt.subplots(figsize=[10,6])\n",
    "labels = countries_other.keys()\n",
    "plt.pie(x=countries_other, autopct=\"%.1f%%\", explode=[0.05]*len(countries_other), labels=labels, pctdistance=0.85)\n",
    "plt.title(\"Top 10 Countries (Including others)\", fontsize=14);"
   ]
  },
  {
   "cell_type": "code",
   "execution_count": null,
   "metadata": {},
   "outputs": [],
   "source": [
    "pie, ax = plt.subplots(figsize=[10,6])\n",
    "labels = "
   ]
  },
  {
   "cell_type": "code",
   "execution_count": 6,
   "metadata": {},
   "outputs": [],
   "source": [
    "df.outcome = df.outcome.astype('string')\n"
   ]
  },
  {
   "cell_type": "code",
   "execution_count": 7,
   "metadata": {},
   "outputs": [
    {
     "output_type": "stream",
     "name": "stdout",
     "text": [
      "<class 'pandas.core.frame.DataFrame'>\nRangeIndex: 367634 entries, 0 to 367633\nData columns (total 14 columns):\n #   Column               Non-Null Count   Dtype         \n---  ------               --------------   -----         \n 0   age                  367634 non-null  int64         \n 1   sex                  367634 non-null  object        \n 2   province             367634 non-null  object        \n 3   country              367634 non-null  object        \n 4   date_confirmation    367634 non-null  datetime64[ns]\n 5   outcome              367634 non-null  string        \n 6   Confirmed            367634 non-null  float64       \n 7   Deaths               367634 non-null  float64       \n 8   Recovered            367634 non-null  float64       \n 9   Active               367634 non-null  float64       \n 10  Combined_Key         367634 non-null  object        \n 11  Incidence_Rate       367634 non-null  float64       \n 12  Case-Fatality_Ratio  367634 non-null  float64       \n 13  dist_between_in_km   367634 non-null  float64       \ndtypes: datetime64[ns](1), float64(7), int64(1), object(4), string(1)\nmemory usage: 39.3+ MB\n"
     ]
    }
   ],
   "source": [
    "df.info()"
   ]
  },
  {
   "cell_type": "code",
   "execution_count": 8,
   "metadata": {},
   "outputs": [],
   "source": [
    "# once hot encode and add new cols to dataframe\n",
    "def oneHotEncode_df(dataframe):\n",
    "    col2Encode = list(df.select_dtypes(include=['object']))\n",
    "    dummies = pd.get_dummies(dataframe,columns=col2Encode,prefix=col2Encode)\n",
    "    res = pd.concat([dataframe, dummies], axis=1)\n",
    "    #if we decide to drop one hot encoded values\n",
    "    res = res.drop(col2Encode, axis=1)\n",
    "    return(res)"
   ]
  },
  {
   "cell_type": "code",
   "execution_count": 9,
   "metadata": {},
   "outputs": [
    {
     "output_type": "stream",
     "name": "stdout",
     "text": [
      "Wall time: 21.2 s\n"
     ]
    },
    {
     "output_type": "execute_result",
     "data": {
      "text/plain": [
       "        age date_confirmation          outcome      Confirmed       Deaths  \\\n",
       "0         7        2020-05-26        recovered  238828.000000  4907.000000   \n",
       "1         7        2020-05-20     hospitalized  342788.000000  4869.000000   \n",
       "2         7        2020-05-26     hospitalized    2859.000000     2.000000   \n",
       "3         3        2020-03-15  nonhospitalized   46779.000000  1871.000000   \n",
       "4         7        2020-05-20     hospitalized  120336.000000  3286.000000   \n",
       "...     ...               ...              ...            ...          ...   \n",
       "367629    3        2020-03-31  nonhospitalized  106331.902334  2739.064287   \n",
       "367630    7        2020-04-16     hospitalized  238828.000000  4907.000000   \n",
       "367631    7        2020-05-30     hospitalized    2859.000000     2.000000   \n",
       "367632    3        2020-03-02        recovered   57558.000000    27.000000   \n",
       "367633    1        2020-05-27  nonhospitalized   33299.000000  1911.000000   \n",
       "\n",
       "            Recovered        Active  Incidence_Rate  Case-Fatality_Ratio  \\\n",
       "0       201671.000000  32250.000000     1276.409575             2.054617   \n",
       "1       270094.000000  67825.000000      144.099577             1.420411   \n",
       "2         2639.000000    218.000000      464.331421             0.069955   \n",
       "3        41228.000000   3680.000000      422.592353             3.999658   \n",
       "4       100974.000000  16076.000000      188.400627             2.730687   \n",
       "...               ...           ...             ...                  ...   \n",
       "367629   77838.956438  25753.923921      968.698456             2.721038   \n",
       "367630  201671.000000  32250.000000     1276.409575             2.054617   \n",
       "367631    2639.000000    218.000000      464.331421             0.069955   \n",
       "367632   57142.000000    389.000000      983.839751             0.046909   \n",
       "367633       0.000000  31388.000000     1625.927734             5.738911   \n",
       "\n",
       "        dist_between_in_km  ...  Combined_Key_Zamboanga del Sur ,Philippines  \\\n",
       "0                10.390897  ...                                            0   \n",
       "1               209.514800  ...                                            0   \n",
       "2               204.687238  ...                                            0   \n",
       "3               126.061115  ...                                            0   \n",
       "4               217.585376  ...                                            0   \n",
       "...                    ...  ...                                          ...   \n",
       "367629           -1.000000  ...                                            0   \n",
       "367630           10.390897  ...                                            0   \n",
       "367631          111.254821  ...                                            0   \n",
       "367632            0.367129  ...                                            0   \n",
       "367633           47.256340  ...                                            0   \n",
       "\n",
       "       Combined_Key_Zamfara ,Nigeria Combined_Key_Zanjan ,Iran  \\\n",
       "0                                  0                         0   \n",
       "1                                  0                         0   \n",
       "2                                  0                         0   \n",
       "3                                  0                         0   \n",
       "4                                  0                         0   \n",
       "...                              ...                       ...   \n",
       "367629                             0                         0   \n",
       "367630                             0                         0   \n",
       "367631                             0                         0   \n",
       "367632                             0                         0   \n",
       "367633                             0                         0   \n",
       "\n",
       "        Combined_Key_Zeeland, Netherlands  Combined_Key_Zhejiang, China  \\\n",
       "0                                       0                             0   \n",
       "1                                       0                             0   \n",
       "2                                       0                             0   \n",
       "3                                       0                             0   \n",
       "4                                       0                             0   \n",
       "...                                   ...                           ...   \n",
       "367629                                  0                             0   \n",
       "367630                                  0                             0   \n",
       "367631                                  0                             0   \n",
       "367632                                  0                             0   \n",
       "367633                                  0                             0   \n",
       "\n",
       "        Combined_Key_Zimbabwe  Combined_Key_Zuid-Holland, Netherlands  \\\n",
       "0                           0                                       0   \n",
       "1                           0                                       0   \n",
       "2                           0                                       0   \n",
       "3                           0                                       0   \n",
       "4                           0                                       0   \n",
       "...                       ...                                     ...   \n",
       "367629                      0                                       0   \n",
       "367630                      0                                       0   \n",
       "367631                      0                                       0   \n",
       "367632                      0                                       0   \n",
       "367633                      0                                       0   \n",
       "\n",
       "        Combined_Key_galapagos ,Ecuador  Combined_Key_Ñeembucu ,Paraguay  \\\n",
       "0                                     0                                0   \n",
       "1                                     0                                0   \n",
       "2                                     0                                0   \n",
       "3                                     0                                0   \n",
       "4                                     0                                0   \n",
       "...                                 ...                              ...   \n",
       "367629                                0                                0   \n",
       "367630                                0                                0   \n",
       "367631                                0                                0   \n",
       "367632                                0                                0   \n",
       "367633                                0                                0   \n",
       "\n",
       "        Combined_Key_ñeembucu ,Paraguay  \n",
       "0                                     0  \n",
       "1                                     0  \n",
       "2                                     0  \n",
       "3                                     0  \n",
       "4                                     0  \n",
       "...                                 ...  \n",
       "367629                                0  \n",
       "367630                                0  \n",
       "367631                                0  \n",
       "367632                                0  \n",
       "367633                                0  \n",
       "\n",
       "[367634 rows x 2799 columns]"
      ],
      "text/html": "<div>\n<style scoped>\n    .dataframe tbody tr th:only-of-type {\n        vertical-align: middle;\n    }\n\n    .dataframe tbody tr th {\n        vertical-align: top;\n    }\n\n    .dataframe thead th {\n        text-align: right;\n    }\n</style>\n<table border=\"1\" class=\"dataframe\">\n  <thead>\n    <tr style=\"text-align: right;\">\n      <th></th>\n      <th>age</th>\n      <th>date_confirmation</th>\n      <th>outcome</th>\n      <th>Confirmed</th>\n      <th>Deaths</th>\n      <th>Recovered</th>\n      <th>Active</th>\n      <th>Incidence_Rate</th>\n      <th>Case-Fatality_Ratio</th>\n      <th>dist_between_in_km</th>\n      <th>...</th>\n      <th>Combined_Key_Zamboanga del Sur ,Philippines</th>\n      <th>Combined_Key_Zamfara ,Nigeria</th>\n      <th>Combined_Key_Zanjan ,Iran</th>\n      <th>Combined_Key_Zeeland, Netherlands</th>\n      <th>Combined_Key_Zhejiang, China</th>\n      <th>Combined_Key_Zimbabwe</th>\n      <th>Combined_Key_Zuid-Holland, Netherlands</th>\n      <th>Combined_Key_galapagos ,Ecuador</th>\n      <th>Combined_Key_Ñeembucu ,Paraguay</th>\n      <th>Combined_Key_ñeembucu ,Paraguay</th>\n    </tr>\n  </thead>\n  <tbody>\n    <tr>\n      <th>0</th>\n      <td>7</td>\n      <td>2020-05-26</td>\n      <td>recovered</td>\n      <td>238828.000000</td>\n      <td>4907.000000</td>\n      <td>201671.000000</td>\n      <td>32250.000000</td>\n      <td>1276.409575</td>\n      <td>2.054617</td>\n      <td>10.390897</td>\n      <td>...</td>\n      <td>0</td>\n      <td>0</td>\n      <td>0</td>\n      <td>0</td>\n      <td>0</td>\n      <td>0</td>\n      <td>0</td>\n      <td>0</td>\n      <td>0</td>\n      <td>0</td>\n    </tr>\n    <tr>\n      <th>1</th>\n      <td>7</td>\n      <td>2020-05-20</td>\n      <td>hospitalized</td>\n      <td>342788.000000</td>\n      <td>4869.000000</td>\n      <td>270094.000000</td>\n      <td>67825.000000</td>\n      <td>144.099577</td>\n      <td>1.420411</td>\n      <td>209.514800</td>\n      <td>...</td>\n      <td>0</td>\n      <td>0</td>\n      <td>0</td>\n      <td>0</td>\n      <td>0</td>\n      <td>0</td>\n      <td>0</td>\n      <td>0</td>\n      <td>0</td>\n      <td>0</td>\n    </tr>\n    <tr>\n      <th>2</th>\n      <td>7</td>\n      <td>2020-05-26</td>\n      <td>hospitalized</td>\n      <td>2859.000000</td>\n      <td>2.000000</td>\n      <td>2639.000000</td>\n      <td>218.000000</td>\n      <td>464.331421</td>\n      <td>0.069955</td>\n      <td>204.687238</td>\n      <td>...</td>\n      <td>0</td>\n      <td>0</td>\n      <td>0</td>\n      <td>0</td>\n      <td>0</td>\n      <td>0</td>\n      <td>0</td>\n      <td>0</td>\n      <td>0</td>\n      <td>0</td>\n    </tr>\n    <tr>\n      <th>3</th>\n      <td>3</td>\n      <td>2020-03-15</td>\n      <td>nonhospitalized</td>\n      <td>46779.000000</td>\n      <td>1871.000000</td>\n      <td>41228.000000</td>\n      <td>3680.000000</td>\n      <td>422.592353</td>\n      <td>3.999658</td>\n      <td>126.061115</td>\n      <td>...</td>\n      <td>0</td>\n      <td>0</td>\n      <td>0</td>\n      <td>0</td>\n      <td>0</td>\n      <td>0</td>\n      <td>0</td>\n      <td>0</td>\n      <td>0</td>\n      <td>0</td>\n    </tr>\n    <tr>\n      <th>4</th>\n      <td>7</td>\n      <td>2020-05-20</td>\n      <td>hospitalized</td>\n      <td>120336.000000</td>\n      <td>3286.000000</td>\n      <td>100974.000000</td>\n      <td>16076.000000</td>\n      <td>188.400627</td>\n      <td>2.730687</td>\n      <td>217.585376</td>\n      <td>...</td>\n      <td>0</td>\n      <td>0</td>\n      <td>0</td>\n      <td>0</td>\n      <td>0</td>\n      <td>0</td>\n      <td>0</td>\n      <td>0</td>\n      <td>0</td>\n      <td>0</td>\n    </tr>\n    <tr>\n      <th>...</th>\n      <td>...</td>\n      <td>...</td>\n      <td>...</td>\n      <td>...</td>\n      <td>...</td>\n      <td>...</td>\n      <td>...</td>\n      <td>...</td>\n      <td>...</td>\n      <td>...</td>\n      <td>...</td>\n      <td>...</td>\n      <td>...</td>\n      <td>...</td>\n      <td>...</td>\n      <td>...</td>\n      <td>...</td>\n      <td>...</td>\n      <td>...</td>\n      <td>...</td>\n      <td>...</td>\n    </tr>\n    <tr>\n      <th>367629</th>\n      <td>3</td>\n      <td>2020-03-31</td>\n      <td>nonhospitalized</td>\n      <td>106331.902334</td>\n      <td>2739.064287</td>\n      <td>77838.956438</td>\n      <td>25753.923921</td>\n      <td>968.698456</td>\n      <td>2.721038</td>\n      <td>-1.000000</td>\n      <td>...</td>\n      <td>0</td>\n      <td>0</td>\n      <td>0</td>\n      <td>0</td>\n      <td>0</td>\n      <td>0</td>\n      <td>0</td>\n      <td>0</td>\n      <td>0</td>\n      <td>0</td>\n    </tr>\n    <tr>\n      <th>367630</th>\n      <td>7</td>\n      <td>2020-04-16</td>\n      <td>hospitalized</td>\n      <td>238828.000000</td>\n      <td>4907.000000</td>\n      <td>201671.000000</td>\n      <td>32250.000000</td>\n      <td>1276.409575</td>\n      <td>2.054617</td>\n      <td>10.390897</td>\n      <td>...</td>\n      <td>0</td>\n      <td>0</td>\n      <td>0</td>\n      <td>0</td>\n      <td>0</td>\n      <td>0</td>\n      <td>0</td>\n      <td>0</td>\n      <td>0</td>\n      <td>0</td>\n    </tr>\n    <tr>\n      <th>367631</th>\n      <td>7</td>\n      <td>2020-05-30</td>\n      <td>hospitalized</td>\n      <td>2859.000000</td>\n      <td>2.000000</td>\n      <td>2639.000000</td>\n      <td>218.000000</td>\n      <td>464.331421</td>\n      <td>0.069955</td>\n      <td>111.254821</td>\n      <td>...</td>\n      <td>0</td>\n      <td>0</td>\n      <td>0</td>\n      <td>0</td>\n      <td>0</td>\n      <td>0</td>\n      <td>0</td>\n      <td>0</td>\n      <td>0</td>\n      <td>0</td>\n    </tr>\n    <tr>\n      <th>367632</th>\n      <td>3</td>\n      <td>2020-03-02</td>\n      <td>recovered</td>\n      <td>57558.000000</td>\n      <td>27.000000</td>\n      <td>57142.000000</td>\n      <td>389.000000</td>\n      <td>983.839751</td>\n      <td>0.046909</td>\n      <td>0.367129</td>\n      <td>...</td>\n      <td>0</td>\n      <td>0</td>\n      <td>0</td>\n      <td>0</td>\n      <td>0</td>\n      <td>0</td>\n      <td>0</td>\n      <td>0</td>\n      <td>0</td>\n      <td>0</td>\n    </tr>\n    <tr>\n      <th>367633</th>\n      <td>1</td>\n      <td>2020-05-27</td>\n      <td>nonhospitalized</td>\n      <td>33299.000000</td>\n      <td>1911.000000</td>\n      <td>0.000000</td>\n      <td>31388.000000</td>\n      <td>1625.927734</td>\n      <td>5.738911</td>\n      <td>47.256340</td>\n      <td>...</td>\n      <td>0</td>\n      <td>0</td>\n      <td>0</td>\n      <td>0</td>\n      <td>0</td>\n      <td>0</td>\n      <td>0</td>\n      <td>0</td>\n      <td>0</td>\n      <td>0</td>\n    </tr>\n  </tbody>\n</table>\n<p>367634 rows × 2799 columns</p>\n</div>"
     },
     "metadata": {},
     "execution_count": 9
    }
   ],
   "source": [
    "%%time\n",
    "# add dummy variables  \n",
    "ohe_df = oneHotEncode_df(df)\n",
    "ohe_df"
   ]
  },
  {
   "cell_type": "code",
   "execution_count": 12,
   "metadata": {},
   "outputs": [],
   "source": [
    "#split into dependent and independent var\n",
    "x = ohe_df.copy().drop(columns=['outcome','date_confirmation','dist_between_in_km'])\n",
    "y = ohe_df.outcome.copy()"
   ]
  },
  {
   "cell_type": "code",
   "execution_count": 18,
   "metadata": {},
   "outputs": [],
   "source": [
    "t_x,v_x,t_y, v_y = train_test_split(x,y, train_size=0.8, random_state=1)"
   ]
  },
  {
   "cell_type": "code",
   "execution_count": 20,
   "metadata": {},
   "outputs": [
    {
     "output_type": "execute_result",
     "data": {
      "text/plain": [
       "                outcome          outcome\n",
       "247886  nonhospitalized  nonhospitalized\n",
       "364290  nonhospitalized  nonhospitalized\n",
       "237307     hospitalized     hospitalized\n",
       "22967      hospitalized     hospitalized\n",
       "29696      hospitalized     hospitalized\n",
       "...                 ...              ...\n",
       "47882      hospitalized     hospitalized\n",
       "319748  nonhospitalized  nonhospitalized\n",
       "153914  nonhospitalized  nonhospitalized\n",
       "219937  nonhospitalized  nonhospitalized\n",
       "352073  nonhospitalized  nonhospitalized\n",
       "\n",
       "[73527 rows x 2 columns]"
      ],
      "text/html": "<div>\n<style scoped>\n    .dataframe tbody tr th:only-of-type {\n        vertical-align: middle;\n    }\n\n    .dataframe tbody tr th {\n        vertical-align: top;\n    }\n\n    .dataframe thead th {\n        text-align: right;\n    }\n</style>\n<table border=\"1\" class=\"dataframe\">\n  <thead>\n    <tr style=\"text-align: right;\">\n      <th></th>\n      <th>outcome</th>\n      <th>outcome</th>\n    </tr>\n  </thead>\n  <tbody>\n    <tr>\n      <th>247886</th>\n      <td>nonhospitalized</td>\n      <td>nonhospitalized</td>\n    </tr>\n    <tr>\n      <th>364290</th>\n      <td>nonhospitalized</td>\n      <td>nonhospitalized</td>\n    </tr>\n    <tr>\n      <th>237307</th>\n      <td>hospitalized</td>\n      <td>hospitalized</td>\n    </tr>\n    <tr>\n      <th>22967</th>\n      <td>hospitalized</td>\n      <td>hospitalized</td>\n    </tr>\n    <tr>\n      <th>29696</th>\n      <td>hospitalized</td>\n      <td>hospitalized</td>\n    </tr>\n    <tr>\n      <th>...</th>\n      <td>...</td>\n      <td>...</td>\n    </tr>\n    <tr>\n      <th>47882</th>\n      <td>hospitalized</td>\n      <td>hospitalized</td>\n    </tr>\n    <tr>\n      <th>319748</th>\n      <td>nonhospitalized</td>\n      <td>nonhospitalized</td>\n    </tr>\n    <tr>\n      <th>153914</th>\n      <td>nonhospitalized</td>\n      <td>nonhospitalized</td>\n    </tr>\n    <tr>\n      <th>219937</th>\n      <td>nonhospitalized</td>\n      <td>nonhospitalized</td>\n    </tr>\n    <tr>\n      <th>352073</th>\n      <td>nonhospitalized</td>\n      <td>nonhospitalized</td>\n    </tr>\n  </tbody>\n</table>\n<p>73527 rows × 2 columns</p>\n</div>"
     },
     "metadata": {},
     "execution_count": 20
    },
    {
     "output_type": "execute_result",
     "data": {
      "text/plain": [
       "        age  Confirmed  Deaths  Recovered   Active  Incidence_Rate  \\\n",
       "218247    3     2531.0    76.0     1571.0    884.0      468.787044   \n",
       "33854     7   120336.0  3286.0   100974.0  16076.0      188.400627   \n",
       "234440    7   238828.0  4907.0   201671.0  32250.0     1276.409575   \n",
       "316468    7    21913.0   462.0    16715.0   4736.0     1550.219236   \n",
       "250495    4    25278.0  1546.0        0.0  23732.0     2592.083675   \n",
       "...     ...        ...     ...        ...      ...             ...   \n",
       "117583    3    21913.0   462.0    16715.0   4736.0     1550.219236   \n",
       "73349     6    64692.0  1844.0    58524.0   4324.0      360.749785   \n",
       "312201    7     2859.0     2.0     2639.0    218.0      464.331421   \n",
       "267336    7     2859.0     2.0     2639.0    218.0      464.331421   \n",
       "128037    7   111290.0  1308.0    92265.0  17717.0      137.339636   \n",
       "\n",
       "        Case-Fatality_Ratio  age  Confirmed  Deaths  ...  \\\n",
       "218247             3.002766    3     2531.0    76.0  ...   \n",
       "33854              2.730687    7   120336.0  3286.0  ...   \n",
       "234440             2.054617    7   238828.0  4907.0  ...   \n",
       "316468             2.108338    7    21913.0   462.0  ...   \n",
       "250495             6.115990    4    25278.0  1546.0  ...   \n",
       "...                     ...  ...        ...     ...  ...   \n",
       "117583             2.108338    3    21913.0   462.0  ...   \n",
       "73349              2.850430    6    64692.0  1844.0  ...   \n",
       "312201             0.069955    7     2859.0     2.0  ...   \n",
       "267336             0.069955    7     2859.0     2.0  ...   \n",
       "128037             1.175308    7   111290.0  1308.0  ...   \n",
       "\n",
       "        Combined_Key_Zamboanga del Sur ,Philippines  \\\n",
       "218247                                            0   \n",
       "33854                                             0   \n",
       "234440                                            0   \n",
       "316468                                            0   \n",
       "250495                                            0   \n",
       "...                                             ...   \n",
       "117583                                            0   \n",
       "73349                                             0   \n",
       "312201                                            0   \n",
       "267336                                            0   \n",
       "128037                                            0   \n",
       "\n",
       "        Combined_Key_Zamfara ,Nigeria  Combined_Key_Zanjan ,Iran  \\\n",
       "218247                              0                          0   \n",
       "33854                               0                          0   \n",
       "234440                              0                          0   \n",
       "316468                              0                          0   \n",
       "250495                              0                          0   \n",
       "...                               ...                        ...   \n",
       "117583                              0                          0   \n",
       "73349                               0                          0   \n",
       "312201                              0                          0   \n",
       "267336                              0                          0   \n",
       "128037                              0                          0   \n",
       "\n",
       "        Combined_Key_Zeeland, Netherlands  Combined_Key_Zhejiang, China  \\\n",
       "218247                                  0                             0   \n",
       "33854                                   0                             0   \n",
       "234440                                  0                             0   \n",
       "316468                                  0                             0   \n",
       "250495                                  0                             0   \n",
       "...                                   ...                           ...   \n",
       "117583                                  0                             0   \n",
       "73349                                   0                             0   \n",
       "312201                                  0                             0   \n",
       "267336                                  0                             0   \n",
       "128037                                  0                             0   \n",
       "\n",
       "        Combined_Key_Zimbabwe  Combined_Key_Zuid-Holland, Netherlands  \\\n",
       "218247                      0                                       0   \n",
       "33854                       0                                       0   \n",
       "234440                      0                                       0   \n",
       "316468                      0                                       0   \n",
       "250495                      0                                       0   \n",
       "...                       ...                                     ...   \n",
       "117583                      0                                       0   \n",
       "73349                       0                                       0   \n",
       "312201                      0                                       0   \n",
       "267336                      0                                       0   \n",
       "128037                      0                                       0   \n",
       "\n",
       "        Combined_Key_galapagos ,Ecuador  Combined_Key_Ñeembucu ,Paraguay  \\\n",
       "218247                                0                                0   \n",
       "33854                                 0                                0   \n",
       "234440                                0                                0   \n",
       "316468                                0                                0   \n",
       "250495                                0                                0   \n",
       "...                                 ...                              ...   \n",
       "117583                                0                                0   \n",
       "73349                                 0                                0   \n",
       "312201                                0                                0   \n",
       "267336                                0                                0   \n",
       "128037                                0                                0   \n",
       "\n",
       "        Combined_Key_ñeembucu ,Paraguay  \n",
       "218247                                0  \n",
       "33854                                 0  \n",
       "234440                                0  \n",
       "316468                                0  \n",
       "250495                                0  \n",
       "...                                 ...  \n",
       "117583                                0  \n",
       "73349                                 0  \n",
       "312201                                0  \n",
       "267336                                0  \n",
       "128037                                0  \n",
       "\n",
       "[294107 rows x 2793 columns]"
      ],
      "text/html": "<div>\n<style scoped>\n    .dataframe tbody tr th:only-of-type {\n        vertical-align: middle;\n    }\n\n    .dataframe tbody tr th {\n        vertical-align: top;\n    }\n\n    .dataframe thead th {\n        text-align: right;\n    }\n</style>\n<table border=\"1\" class=\"dataframe\">\n  <thead>\n    <tr style=\"text-align: right;\">\n      <th></th>\n      <th>age</th>\n      <th>Confirmed</th>\n      <th>Deaths</th>\n      <th>Recovered</th>\n      <th>Active</th>\n      <th>Incidence_Rate</th>\n      <th>Case-Fatality_Ratio</th>\n      <th>age</th>\n      <th>Confirmed</th>\n      <th>Deaths</th>\n      <th>...</th>\n      <th>Combined_Key_Zamboanga del Sur ,Philippines</th>\n      <th>Combined_Key_Zamfara ,Nigeria</th>\n      <th>Combined_Key_Zanjan ,Iran</th>\n      <th>Combined_Key_Zeeland, Netherlands</th>\n      <th>Combined_Key_Zhejiang, China</th>\n      <th>Combined_Key_Zimbabwe</th>\n      <th>Combined_Key_Zuid-Holland, Netherlands</th>\n      <th>Combined_Key_galapagos ,Ecuador</th>\n      <th>Combined_Key_Ñeembucu ,Paraguay</th>\n      <th>Combined_Key_ñeembucu ,Paraguay</th>\n    </tr>\n  </thead>\n  <tbody>\n    <tr>\n      <th>218247</th>\n      <td>3</td>\n      <td>2531.0</td>\n      <td>76.0</td>\n      <td>1571.0</td>\n      <td>884.0</td>\n      <td>468.787044</td>\n      <td>3.002766</td>\n      <td>3</td>\n      <td>2531.0</td>\n      <td>76.0</td>\n      <td>...</td>\n      <td>0</td>\n      <td>0</td>\n      <td>0</td>\n      <td>0</td>\n      <td>0</td>\n      <td>0</td>\n      <td>0</td>\n      <td>0</td>\n      <td>0</td>\n      <td>0</td>\n    </tr>\n    <tr>\n      <th>33854</th>\n      <td>7</td>\n      <td>120336.0</td>\n      <td>3286.0</td>\n      <td>100974.0</td>\n      <td>16076.0</td>\n      <td>188.400627</td>\n      <td>2.730687</td>\n      <td>7</td>\n      <td>120336.0</td>\n      <td>3286.0</td>\n      <td>...</td>\n      <td>0</td>\n      <td>0</td>\n      <td>0</td>\n      <td>0</td>\n      <td>0</td>\n      <td>0</td>\n      <td>0</td>\n      <td>0</td>\n      <td>0</td>\n      <td>0</td>\n    </tr>\n    <tr>\n      <th>234440</th>\n      <td>7</td>\n      <td>238828.0</td>\n      <td>4907.0</td>\n      <td>201671.0</td>\n      <td>32250.0</td>\n      <td>1276.409575</td>\n      <td>2.054617</td>\n      <td>7</td>\n      <td>238828.0</td>\n      <td>4907.0</td>\n      <td>...</td>\n      <td>0</td>\n      <td>0</td>\n      <td>0</td>\n      <td>0</td>\n      <td>0</td>\n      <td>0</td>\n      <td>0</td>\n      <td>0</td>\n      <td>0</td>\n      <td>0</td>\n    </tr>\n    <tr>\n      <th>316468</th>\n      <td>7</td>\n      <td>21913.0</td>\n      <td>462.0</td>\n      <td>16715.0</td>\n      <td>4736.0</td>\n      <td>1550.219236</td>\n      <td>2.108338</td>\n      <td>7</td>\n      <td>21913.0</td>\n      <td>462.0</td>\n      <td>...</td>\n      <td>0</td>\n      <td>0</td>\n      <td>0</td>\n      <td>0</td>\n      <td>0</td>\n      <td>0</td>\n      <td>0</td>\n      <td>0</td>\n      <td>0</td>\n      <td>0</td>\n    </tr>\n    <tr>\n      <th>250495</th>\n      <td>4</td>\n      <td>25278.0</td>\n      <td>1546.0</td>\n      <td>0.0</td>\n      <td>23732.0</td>\n      <td>2592.083675</td>\n      <td>6.115990</td>\n      <td>4</td>\n      <td>25278.0</td>\n      <td>1546.0</td>\n      <td>...</td>\n      <td>0</td>\n      <td>0</td>\n      <td>0</td>\n      <td>0</td>\n      <td>0</td>\n      <td>0</td>\n      <td>0</td>\n      <td>0</td>\n      <td>0</td>\n      <td>0</td>\n    </tr>\n    <tr>\n      <th>...</th>\n      <td>...</td>\n      <td>...</td>\n      <td>...</td>\n      <td>...</td>\n      <td>...</td>\n      <td>...</td>\n      <td>...</td>\n      <td>...</td>\n      <td>...</td>\n      <td>...</td>\n      <td>...</td>\n      <td>...</td>\n      <td>...</td>\n      <td>...</td>\n      <td>...</td>\n      <td>...</td>\n      <td>...</td>\n      <td>...</td>\n      <td>...</td>\n      <td>...</td>\n      <td>...</td>\n    </tr>\n    <tr>\n      <th>117583</th>\n      <td>3</td>\n      <td>21913.0</td>\n      <td>462.0</td>\n      <td>16715.0</td>\n      <td>4736.0</td>\n      <td>1550.219236</td>\n      <td>2.108338</td>\n      <td>3</td>\n      <td>21913.0</td>\n      <td>462.0</td>\n      <td>...</td>\n      <td>0</td>\n      <td>0</td>\n      <td>0</td>\n      <td>0</td>\n      <td>0</td>\n      <td>0</td>\n      <td>0</td>\n      <td>0</td>\n      <td>0</td>\n      <td>0</td>\n    </tr>\n    <tr>\n      <th>73349</th>\n      <td>6</td>\n      <td>64692.0</td>\n      <td>1844.0</td>\n      <td>58524.0</td>\n      <td>4324.0</td>\n      <td>360.749785</td>\n      <td>2.850430</td>\n      <td>6</td>\n      <td>64692.0</td>\n      <td>1844.0</td>\n      <td>...</td>\n      <td>0</td>\n      <td>0</td>\n      <td>0</td>\n      <td>0</td>\n      <td>0</td>\n      <td>0</td>\n      <td>0</td>\n      <td>0</td>\n      <td>0</td>\n      <td>0</td>\n    </tr>\n    <tr>\n      <th>312201</th>\n      <td>7</td>\n      <td>2859.0</td>\n      <td>2.0</td>\n      <td>2639.0</td>\n      <td>218.0</td>\n      <td>464.331421</td>\n      <td>0.069955</td>\n      <td>7</td>\n      <td>2859.0</td>\n      <td>2.0</td>\n      <td>...</td>\n      <td>0</td>\n      <td>0</td>\n      <td>0</td>\n      <td>0</td>\n      <td>0</td>\n      <td>0</td>\n      <td>0</td>\n      <td>0</td>\n      <td>0</td>\n      <td>0</td>\n    </tr>\n    <tr>\n      <th>267336</th>\n      <td>7</td>\n      <td>2859.0</td>\n      <td>2.0</td>\n      <td>2639.0</td>\n      <td>218.0</td>\n      <td>464.331421</td>\n      <td>0.069955</td>\n      <td>7</td>\n      <td>2859.0</td>\n      <td>2.0</td>\n      <td>...</td>\n      <td>0</td>\n      <td>0</td>\n      <td>0</td>\n      <td>0</td>\n      <td>0</td>\n      <td>0</td>\n      <td>0</td>\n      <td>0</td>\n      <td>0</td>\n      <td>0</td>\n    </tr>\n    <tr>\n      <th>128037</th>\n      <td>7</td>\n      <td>111290.0</td>\n      <td>1308.0</td>\n      <td>92265.0</td>\n      <td>17717.0</td>\n      <td>137.339636</td>\n      <td>1.175308</td>\n      <td>7</td>\n      <td>111290.0</td>\n      <td>1308.0</td>\n      <td>...</td>\n      <td>0</td>\n      <td>0</td>\n      <td>0</td>\n      <td>0</td>\n      <td>0</td>\n      <td>0</td>\n      <td>0</td>\n      <td>0</td>\n      <td>0</td>\n      <td>0</td>\n    </tr>\n  </tbody>\n</table>\n<p>294107 rows × 2793 columns</p>\n</div>"
     },
     "metadata": {},
     "execution_count": 20
    }
   ],
   "source": [
    "\n",
    "v_y\n",
    "t_x"
   ]
  },
  {
   "cell_type": "code",
   "execution_count": 10,
   "metadata": {},
   "outputs": [
    {
     "output_type": "stream",
     "name": "stdout",
     "text": [
      "Wall time: 7.09 s\n"
     ]
    }
   ],
   "source": [
    "%%time\n",
    "#split train data\n",
    "trainData, validationData = train_test_split(ohe_df, train_size=0.8, random_state=1)"
   ]
  },
  {
   "cell_type": "code",
   "execution_count": 27,
   "metadata": {
    "tags": []
   },
   "outputs": [],
   "source": [
    "#split dataset into dependent and independent var\n",
    "validationData_x = validationData.copy().drop(columns=['outcome','date_confirmation','dist_between_in_km'])\n",
    "validationData_y = validationData.outcome.copy()\n",
    "\n",
    "trainData_x = trainData.copy().drop(columns=['outcome','date_confirmation','dist_between_in_km'])\n",
    "trainData_y = trainData.outcome.copy()"
   ]
  },
  {
   "cell_type": "code",
   "execution_count": 28,
   "metadata": {},
   "outputs": [
    {
     "output_type": "execute_result",
     "data": {
      "text/plain": [
       "218247    nonhospitalized\n",
       "33854           recovered\n",
       "234440       hospitalized\n",
       "316468       hospitalized\n",
       "250495    nonhospitalized\n",
       "               ...       \n",
       "117583       hospitalized\n",
       "73349     nonhospitalized\n",
       "312201       hospitalized\n",
       "267336       hospitalized\n",
       "128037          recovered\n",
       "Name: outcome, Length: 294107, dtype: string"
      ]
     },
     "metadata": {},
     "execution_count": 28
    },
    {
     "output_type": "execute_result",
     "data": {
      "text/plain": [
       "        age      Confirmed       Deaths      Recovered        Active  \\\n",
       "247886    3   11703.000000   253.000000       0.000000  11450.000000   \n",
       "364290    4  106331.902334  2739.064287   77838.956438  25753.923921   \n",
       "237307    4   21913.000000   462.000000   16715.000000   4736.000000   \n",
       "22967     7  530908.000000  8685.000000  475717.000000  46506.000000   \n",
       "29696     7  111290.000000  1308.000000   92265.000000  17717.000000   \n",
       "...     ...            ...          ...            ...           ...   \n",
       "47882     7    2859.000000     2.000000    2639.000000    218.000000   \n",
       "319748    4   11703.000000   253.000000       0.000000  11450.000000   \n",
       "153914    4   24711.000000  1650.000000       0.000000  23061.000000   \n",
       "219937    5    7149.000000   269.000000    6129.000000    751.000000   \n",
       "352073    3    5990.000000   760.000000       0.000000   5230.000000   \n",
       "\n",
       "        Incidence_Rate  Case-Fatality_Ratio  age      Confirmed       Deaths  \\\n",
       "247886     6073.170732             2.161839    3   11703.000000   253.000000   \n",
       "364290      968.698456             2.721038    4  106331.902334  2739.064287   \n",
       "237307     1550.219236             2.108338    4   21913.000000   462.000000   \n",
       "22967       682.039258             1.635877    7  530908.000000  8685.000000   \n",
       "29696       137.339636             1.175308    7  111290.000000  1308.000000   \n",
       "...                ...                  ...  ...            ...          ...   \n",
       "47882       464.331421             0.069955    7    2859.000000     2.000000   \n",
       "319748     6073.170732             2.161839    4   11703.000000   253.000000   \n",
       "153914     1885.184620             6.677188    4   24711.000000  1650.000000   \n",
       "219937      388.283812             3.762764    5    7149.000000   269.000000   \n",
       "352073      536.161353            12.687813    3    5990.000000   760.000000   \n",
       "\n",
       "        ...  Combined_Key_Zamboanga del Sur ,Philippines  \\\n",
       "247886  ...                                            0   \n",
       "364290  ...                                            0   \n",
       "237307  ...                                            0   \n",
       "22967   ...                                            0   \n",
       "29696   ...                                            0   \n",
       "...     ...                                          ...   \n",
       "47882   ...                                            0   \n",
       "319748  ...                                            0   \n",
       "153914  ...                                            0   \n",
       "219937  ...                                            0   \n",
       "352073  ...                                            0   \n",
       "\n",
       "        Combined_Key_Zamfara ,Nigeria  Combined_Key_Zanjan ,Iran  \\\n",
       "247886                              0                          0   \n",
       "364290                              0                          0   \n",
       "237307                              0                          0   \n",
       "22967                               0                          0   \n",
       "29696                               0                          0   \n",
       "...                               ...                        ...   \n",
       "47882                               0                          0   \n",
       "319748                              0                          0   \n",
       "153914                              0                          0   \n",
       "219937                              0                          0   \n",
       "352073                              0                          0   \n",
       "\n",
       "        Combined_Key_Zeeland, Netherlands  Combined_Key_Zhejiang, China  \\\n",
       "247886                                  0                             0   \n",
       "364290                                  0                             0   \n",
       "237307                                  0                             0   \n",
       "22967                                   0                             0   \n",
       "29696                                   0                             0   \n",
       "...                                   ...                           ...   \n",
       "47882                                   0                             0   \n",
       "319748                                  0                             0   \n",
       "153914                                  0                             0   \n",
       "219937                                  0                             0   \n",
       "352073                                  0                             0   \n",
       "\n",
       "        Combined_Key_Zimbabwe  Combined_Key_Zuid-Holland, Netherlands  \\\n",
       "247886                      0                                       0   \n",
       "364290                      0                                       0   \n",
       "237307                      0                                       0   \n",
       "22967                       0                                       0   \n",
       "29696                       0                                       0   \n",
       "...                       ...                                     ...   \n",
       "47882                       0                                       0   \n",
       "319748                      0                                       0   \n",
       "153914                      0                                       0   \n",
       "219937                      0                                       0   \n",
       "352073                      0                                       0   \n",
       "\n",
       "        Combined_Key_galapagos ,Ecuador  Combined_Key_Ñeembucu ,Paraguay  \\\n",
       "247886                                0                                0   \n",
       "364290                                0                                0   \n",
       "237307                                0                                0   \n",
       "22967                                 0                                0   \n",
       "29696                                 0                                0   \n",
       "...                                 ...                              ...   \n",
       "47882                                 0                                0   \n",
       "319748                                0                                0   \n",
       "153914                                0                                0   \n",
       "219937                                0                                0   \n",
       "352073                                0                                0   \n",
       "\n",
       "        Combined_Key_ñeembucu ,Paraguay  \n",
       "247886                                0  \n",
       "364290                                0  \n",
       "237307                                0  \n",
       "22967                                 0  \n",
       "29696                                 0  \n",
       "...                                 ...  \n",
       "47882                                 0  \n",
       "319748                                0  \n",
       "153914                                0  \n",
       "219937                                0  \n",
       "352073                                0  \n",
       "\n",
       "[73527 rows x 2793 columns]"
      ],
      "text/html": "<div>\n<style scoped>\n    .dataframe tbody tr th:only-of-type {\n        vertical-align: middle;\n    }\n\n    .dataframe tbody tr th {\n        vertical-align: top;\n    }\n\n    .dataframe thead th {\n        text-align: right;\n    }\n</style>\n<table border=\"1\" class=\"dataframe\">\n  <thead>\n    <tr style=\"text-align: right;\">\n      <th></th>\n      <th>age</th>\n      <th>Confirmed</th>\n      <th>Deaths</th>\n      <th>Recovered</th>\n      <th>Active</th>\n      <th>Incidence_Rate</th>\n      <th>Case-Fatality_Ratio</th>\n      <th>age</th>\n      <th>Confirmed</th>\n      <th>Deaths</th>\n      <th>...</th>\n      <th>Combined_Key_Zamboanga del Sur ,Philippines</th>\n      <th>Combined_Key_Zamfara ,Nigeria</th>\n      <th>Combined_Key_Zanjan ,Iran</th>\n      <th>Combined_Key_Zeeland, Netherlands</th>\n      <th>Combined_Key_Zhejiang, China</th>\n      <th>Combined_Key_Zimbabwe</th>\n      <th>Combined_Key_Zuid-Holland, Netherlands</th>\n      <th>Combined_Key_galapagos ,Ecuador</th>\n      <th>Combined_Key_Ñeembucu ,Paraguay</th>\n      <th>Combined_Key_ñeembucu ,Paraguay</th>\n    </tr>\n  </thead>\n  <tbody>\n    <tr>\n      <th>247886</th>\n      <td>3</td>\n      <td>11703.000000</td>\n      <td>253.000000</td>\n      <td>0.000000</td>\n      <td>11450.000000</td>\n      <td>6073.170732</td>\n      <td>2.161839</td>\n      <td>3</td>\n      <td>11703.000000</td>\n      <td>253.000000</td>\n      <td>...</td>\n      <td>0</td>\n      <td>0</td>\n      <td>0</td>\n      <td>0</td>\n      <td>0</td>\n      <td>0</td>\n      <td>0</td>\n      <td>0</td>\n      <td>0</td>\n      <td>0</td>\n    </tr>\n    <tr>\n      <th>364290</th>\n      <td>4</td>\n      <td>106331.902334</td>\n      <td>2739.064287</td>\n      <td>77838.956438</td>\n      <td>25753.923921</td>\n      <td>968.698456</td>\n      <td>2.721038</td>\n      <td>4</td>\n      <td>106331.902334</td>\n      <td>2739.064287</td>\n      <td>...</td>\n      <td>0</td>\n      <td>0</td>\n      <td>0</td>\n      <td>0</td>\n      <td>0</td>\n      <td>0</td>\n      <td>0</td>\n      <td>0</td>\n      <td>0</td>\n      <td>0</td>\n    </tr>\n    <tr>\n      <th>237307</th>\n      <td>4</td>\n      <td>21913.000000</td>\n      <td>462.000000</td>\n      <td>16715.000000</td>\n      <td>4736.000000</td>\n      <td>1550.219236</td>\n      <td>2.108338</td>\n      <td>4</td>\n      <td>21913.000000</td>\n      <td>462.000000</td>\n      <td>...</td>\n      <td>0</td>\n      <td>0</td>\n      <td>0</td>\n      <td>0</td>\n      <td>0</td>\n      <td>0</td>\n      <td>0</td>\n      <td>0</td>\n      <td>0</td>\n      <td>0</td>\n    </tr>\n    <tr>\n      <th>22967</th>\n      <td>7</td>\n      <td>530908.000000</td>\n      <td>8685.000000</td>\n      <td>475717.000000</td>\n      <td>46506.000000</td>\n      <td>682.039258</td>\n      <td>1.635877</td>\n      <td>7</td>\n      <td>530908.000000</td>\n      <td>8685.000000</td>\n      <td>...</td>\n      <td>0</td>\n      <td>0</td>\n      <td>0</td>\n      <td>0</td>\n      <td>0</td>\n      <td>0</td>\n      <td>0</td>\n      <td>0</td>\n      <td>0</td>\n      <td>0</td>\n    </tr>\n    <tr>\n      <th>29696</th>\n      <td>7</td>\n      <td>111290.000000</td>\n      <td>1308.000000</td>\n      <td>92265.000000</td>\n      <td>17717.000000</td>\n      <td>137.339636</td>\n      <td>1.175308</td>\n      <td>7</td>\n      <td>111290.000000</td>\n      <td>1308.000000</td>\n      <td>...</td>\n      <td>0</td>\n      <td>0</td>\n      <td>0</td>\n      <td>0</td>\n      <td>0</td>\n      <td>0</td>\n      <td>0</td>\n      <td>0</td>\n      <td>0</td>\n      <td>0</td>\n    </tr>\n    <tr>\n      <th>...</th>\n      <td>...</td>\n      <td>...</td>\n      <td>...</td>\n      <td>...</td>\n      <td>...</td>\n      <td>...</td>\n      <td>...</td>\n      <td>...</td>\n      <td>...</td>\n      <td>...</td>\n      <td>...</td>\n      <td>...</td>\n      <td>...</td>\n      <td>...</td>\n      <td>...</td>\n      <td>...</td>\n      <td>...</td>\n      <td>...</td>\n      <td>...</td>\n      <td>...</td>\n      <td>...</td>\n    </tr>\n    <tr>\n      <th>47882</th>\n      <td>7</td>\n      <td>2859.000000</td>\n      <td>2.000000</td>\n      <td>2639.000000</td>\n      <td>218.000000</td>\n      <td>464.331421</td>\n      <td>0.069955</td>\n      <td>7</td>\n      <td>2859.000000</td>\n      <td>2.000000</td>\n      <td>...</td>\n      <td>0</td>\n      <td>0</td>\n      <td>0</td>\n      <td>0</td>\n      <td>0</td>\n      <td>0</td>\n      <td>0</td>\n      <td>0</td>\n      <td>0</td>\n      <td>0</td>\n    </tr>\n    <tr>\n      <th>319748</th>\n      <td>4</td>\n      <td>11703.000000</td>\n      <td>253.000000</td>\n      <td>0.000000</td>\n      <td>11450.000000</td>\n      <td>6073.170732</td>\n      <td>2.161839</td>\n      <td>4</td>\n      <td>11703.000000</td>\n      <td>253.000000</td>\n      <td>...</td>\n      <td>0</td>\n      <td>0</td>\n      <td>0</td>\n      <td>0</td>\n      <td>0</td>\n      <td>0</td>\n      <td>0</td>\n      <td>0</td>\n      <td>0</td>\n      <td>0</td>\n    </tr>\n    <tr>\n      <th>153914</th>\n      <td>4</td>\n      <td>24711.000000</td>\n      <td>1650.000000</td>\n      <td>0.000000</td>\n      <td>23061.000000</td>\n      <td>1885.184620</td>\n      <td>6.677188</td>\n      <td>4</td>\n      <td>24711.000000</td>\n      <td>1650.000000</td>\n      <td>...</td>\n      <td>0</td>\n      <td>0</td>\n      <td>0</td>\n      <td>0</td>\n      <td>0</td>\n      <td>0</td>\n      <td>0</td>\n      <td>0</td>\n      <td>0</td>\n      <td>0</td>\n    </tr>\n    <tr>\n      <th>219937</th>\n      <td>5</td>\n      <td>7149.000000</td>\n      <td>269.000000</td>\n      <td>6129.000000</td>\n      <td>751.000000</td>\n      <td>388.283812</td>\n      <td>3.762764</td>\n      <td>5</td>\n      <td>7149.000000</td>\n      <td>269.000000</td>\n      <td>...</td>\n      <td>0</td>\n      <td>0</td>\n      <td>0</td>\n      <td>0</td>\n      <td>0</td>\n      <td>0</td>\n      <td>0</td>\n      <td>0</td>\n      <td>0</td>\n      <td>0</td>\n    </tr>\n    <tr>\n      <th>352073</th>\n      <td>3</td>\n      <td>5990.000000</td>\n      <td>760.000000</td>\n      <td>0.000000</td>\n      <td>5230.000000</td>\n      <td>536.161353</td>\n      <td>12.687813</td>\n      <td>3</td>\n      <td>5990.000000</td>\n      <td>760.000000</td>\n      <td>...</td>\n      <td>0</td>\n      <td>0</td>\n      <td>0</td>\n      <td>0</td>\n      <td>0</td>\n      <td>0</td>\n      <td>0</td>\n      <td>0</td>\n      <td>0</td>\n      <td>0</td>\n    </tr>\n  </tbody>\n</table>\n<p>73527 rows × 2793 columns</p>\n</div>"
     },
     "metadata": {},
     "execution_count": 28
    }
   ],
   "source": [
    "trainData_y.iloc[:,1]\n",
    "validationData_x"
   ]
  },
  {
   "source": [
    "# ----------------------------------Model Building-----------------------------------"
   ],
   "cell_type": "markdown",
   "metadata": {}
  },
  {
   "cell_type": "code",
   "execution_count": 30,
   "metadata": {},
   "outputs": [],
   "source": [
    "#create 3 diff classififers and append them to list\n",
    "classifiers = []\n",
    "\n",
    "xgb_model = xgb.XGBClassifier()\n",
    "classifiers.append(xgb_model)\n",
    "\n",
    "randForest_model = RandomForestClassifier()\n",
    "classifiers.append(randForest_model)\n",
    "\n",
    "svm_model = svm.SVC()\n",
    "classifiers.append(svm_model)"
   ]
  },
  {
   "cell_type": "code",
   "execution_count": 44,
   "metadata": {},
   "outputs": [
    {
     "output_type": "error",
     "ename": "Error",
     "evalue": "ModuleNotFoundError",
     "traceback": [
      "Error: ModuleNotFoundError",
      "at b.parseConnectInfo (c:\\Users\\I537205\\.vscode\\extensions\\ms-toolsai.jupyter-2021.3.619093157\\out\\client\\extension.js:49:476526)",
      "at b.connectToLocal (c:\\Users\\I537205\\.vscode\\extensions\\ms-toolsai.jupyter-2021.3.619093157\\out\\client\\extension.js:49:477129)",
      "at async b.connect (c:\\Users\\I537205\\.vscode\\extensions\\ms-toolsai.jupyter-2021.3.619093157\\out\\client\\extension.js:49:475006)",
      "at async b.startDebugSession (c:\\Users\\I537205\\.vscode\\extensions\\ms-toolsai.jupyter-2021.3.619093157\\out\\client\\extension.js:49:474153)",
      "at async T.submitCode (c:\\Users\\I537205\\.vscode\\extensions\\ms-toolsai.jupyter-2021.3.619093157\\out\\client\\extension.js:32:610139)",
      "at async T.handleRunByLine (c:\\Users\\I537205\\.vscode\\extensions\\ms-toolsai.jupyter-2021.3.619093157\\out\\client\\extension.js:32:598085)"
     ]
    }
   ],
   "source": [
    "a = c.Counter(df.columns)\n",
    "df.sum()"
   ]
  },
  {
   "cell_type": "code",
   "execution_count": 31,
   "metadata": {},
   "outputs": [
    {
     "output_type": "stream",
     "name": "stderr",
     "text": [
      "  0%|          | 0/3 [00:00<?, ?it/s]c:\\Users\\I537205\\Documents\\C459\\DoR459_Proj\\venv\\lib\\site-packages\\xgboost\\sklearn.py:888: UserWarning: The use of label encoder in XGBClassifier is deprecated and will be removed in a future release. To remove this warning, do the following: 1) Pass option use_label_encoder=False when constructing XGBClassifier object; and 2) Encode your labels (y) as integers starting with 0, i.e. 0, 1, 2, ..., [num_class - 1].\n",
      "  warnings.warn(label_encoder_deprecation_msg, UserWarning)\n",
      "  0%|          | 0/3 [01:33<?, ?it/s]\n"
     ]
    },
    {
     "output_type": "error",
     "ename": "ValueError",
     "evalue": "feature_names must be unique",
     "traceback": [
      "\u001b[1;31m---------------------------------------------------------------------------\u001b[0m",
      "\u001b[1;31mValueError\u001b[0m                                Traceback (most recent call last)",
      "\u001b[1;32m<ipython-input-31-1255aa842721>\u001b[0m in \u001b[0;36m<module>\u001b[1;34m\u001b[0m\n\u001b[0;32m      2\u001b[0m \u001b[1;33m\u001b[0m\u001b[0m\n\u001b[0;32m      3\u001b[0m \u001b[1;32mfor\u001b[0m \u001b[0mclas\u001b[0m \u001b[1;32min\u001b[0m \u001b[0mtqdm\u001b[0m\u001b[1;33m(\u001b[0m\u001b[0mclassifiers\u001b[0m\u001b[1;33m)\u001b[0m\u001b[1;33m:\u001b[0m\u001b[1;33m\u001b[0m\u001b[1;33m\u001b[0m\u001b[0m\n\u001b[1;32m----> 4\u001b[1;33m     \u001b[0mclas\u001b[0m\u001b[1;33m.\u001b[0m\u001b[0mfit\u001b[0m\u001b[1;33m(\u001b[0m\u001b[0mtrainData_x\u001b[0m\u001b[1;33m,\u001b[0m\u001b[0mtrainData_y\u001b[0m\u001b[1;33m.\u001b[0m\u001b[0miloc\u001b[0m\u001b[1;33m[\u001b[0m\u001b[1;33m:\u001b[0m\u001b[1;33m,\u001b[0m\u001b[1;36m0\u001b[0m\u001b[1;33m]\u001b[0m\u001b[1;33m)\u001b[0m\u001b[1;33m\u001b[0m\u001b[1;33m\u001b[0m\u001b[0m\n\u001b[0m\u001b[0;32m      5\u001b[0m     \u001b[0mpredicted\u001b[0m \u001b[1;33m=\u001b[0m \u001b[0mclas\u001b[0m\u001b[1;33m.\u001b[0m\u001b[0mpredict\u001b[0m\u001b[1;33m(\u001b[0m\u001b[0mvalidationData_x\u001b[0m\u001b[1;33m)\u001b[0m\u001b[1;33m\u001b[0m\u001b[1;33m\u001b[0m\u001b[0m\n\u001b[0;32m      6\u001b[0m     \u001b[0maccuracy\u001b[0m \u001b[1;33m=\u001b[0m \u001b[0maccuracy_score\u001b[0m\u001b[1;33m(\u001b[0m\u001b[0mvalidationData_y\u001b[0m\u001b[1;33m.\u001b[0m\u001b[0miloc\u001b[0m\u001b[1;33m[\u001b[0m\u001b[1;33m:\u001b[0m\u001b[1;33m,\u001b[0m\u001b[1;36m0\u001b[0m\u001b[1;33m]\u001b[0m\u001b[1;33m,\u001b[0m\u001b[0mpredicted\u001b[0m\u001b[1;33m)\u001b[0m\u001b[1;33m\u001b[0m\u001b[1;33m\u001b[0m\u001b[0m\n",
      "\u001b[1;32mc:\\Users\\I537205\\Documents\\C459\\DoR459_Proj\\venv\\lib\\site-packages\\xgboost\\core.py\u001b[0m in \u001b[0;36minner_f\u001b[1;34m(*args, **kwargs)\u001b[0m\n\u001b[0;32m    420\u001b[0m         \u001b[1;32mfor\u001b[0m \u001b[0mk\u001b[0m\u001b[1;33m,\u001b[0m \u001b[0marg\u001b[0m \u001b[1;32min\u001b[0m \u001b[0mzip\u001b[0m\u001b[1;33m(\u001b[0m\u001b[0msig\u001b[0m\u001b[1;33m.\u001b[0m\u001b[0mparameters\u001b[0m\u001b[1;33m,\u001b[0m \u001b[0margs\u001b[0m\u001b[1;33m)\u001b[0m\u001b[1;33m:\u001b[0m\u001b[1;33m\u001b[0m\u001b[1;33m\u001b[0m\u001b[0m\n\u001b[0;32m    421\u001b[0m             \u001b[0mkwargs\u001b[0m\u001b[1;33m[\u001b[0m\u001b[0mk\u001b[0m\u001b[1;33m]\u001b[0m \u001b[1;33m=\u001b[0m \u001b[0marg\u001b[0m\u001b[1;33m\u001b[0m\u001b[1;33m\u001b[0m\u001b[0m\n\u001b[1;32m--> 422\u001b[1;33m         \u001b[1;32mreturn\u001b[0m \u001b[0mf\u001b[0m\u001b[1;33m(\u001b[0m\u001b[1;33m**\u001b[0m\u001b[0mkwargs\u001b[0m\u001b[1;33m)\u001b[0m\u001b[1;33m\u001b[0m\u001b[1;33m\u001b[0m\u001b[0m\n\u001b[0m\u001b[0;32m    423\u001b[0m \u001b[1;33m\u001b[0m\u001b[0m\n\u001b[0;32m    424\u001b[0m     \u001b[1;32mreturn\u001b[0m \u001b[0minner_f\u001b[0m\u001b[1;33m\u001b[0m\u001b[1;33m\u001b[0m\u001b[0m\n",
      "\u001b[1;32mc:\\Users\\I537205\\Documents\\C459\\DoR459_Proj\\venv\\lib\\site-packages\\xgboost\\sklearn.py\u001b[0m in \u001b[0;36mfit\u001b[1;34m(self, X, y, sample_weight, base_margin, eval_set, eval_metric, early_stopping_rounds, verbose, xgb_model, sample_weight_eval_set, feature_weights, callbacks)\u001b[0m\n\u001b[0;32m    901\u001b[0m         \u001b[0mself\u001b[0m\u001b[1;33m.\u001b[0m\u001b[0mn_features_in_\u001b[0m \u001b[1;33m=\u001b[0m \u001b[0mself\u001b[0m\u001b[1;33m.\u001b[0m\u001b[0m_features_count\u001b[0m\u001b[1;33m\u001b[0m\u001b[1;33m\u001b[0m\u001b[0m\n\u001b[0;32m    902\u001b[0m \u001b[1;33m\u001b[0m\u001b[0m\n\u001b[1;32m--> 903\u001b[1;33m         train_dmatrix, evals = self._wrap_evaluation_matrices(\n\u001b[0m\u001b[0;32m    904\u001b[0m             \u001b[0mX\u001b[0m\u001b[1;33m,\u001b[0m \u001b[0my\u001b[0m\u001b[1;33m,\u001b[0m \u001b[0mgroup\u001b[0m\u001b[1;33m=\u001b[0m\u001b[1;32mNone\u001b[0m\u001b[1;33m,\u001b[0m \u001b[0msample_weight\u001b[0m\u001b[1;33m=\u001b[0m\u001b[0msample_weight\u001b[0m\u001b[1;33m,\u001b[0m \u001b[0mbase_margin\u001b[0m\u001b[1;33m=\u001b[0m\u001b[0mbase_margin\u001b[0m\u001b[1;33m,\u001b[0m\u001b[1;33m\u001b[0m\u001b[1;33m\u001b[0m\u001b[0m\n\u001b[0;32m    905\u001b[0m             \u001b[0mfeature_weights\u001b[0m\u001b[1;33m=\u001b[0m\u001b[0mfeature_weights\u001b[0m\u001b[1;33m,\u001b[0m\u001b[1;33m\u001b[0m\u001b[1;33m\u001b[0m\u001b[0m\n",
      "\u001b[1;32mc:\\Users\\I537205\\Documents\\C459\\DoR459_Proj\\venv\\lib\\site-packages\\xgboost\\sklearn.py\u001b[0m in \u001b[0;36m_wrap_evaluation_matrices\u001b[1;34m(self, X, y, group, sample_weight, base_margin, feature_weights, eval_set, sample_weight_eval_set, eval_group, label_transform)\u001b[0m\n\u001b[0;32m    263\u001b[0m \u001b[1;33m\u001b[0m\u001b[0m\n\u001b[0;32m    264\u001b[0m         \u001b[0my\u001b[0m \u001b[1;33m=\u001b[0m \u001b[0mlabel_transform\u001b[0m\u001b[1;33m(\u001b[0m\u001b[0my\u001b[0m\u001b[1;33m)\u001b[0m\u001b[1;33m\u001b[0m\u001b[1;33m\u001b[0m\u001b[0m\n\u001b[1;32m--> 265\u001b[1;33m         train_dmatrix = DMatrix(data=X, label=y, weight=sample_weight,\n\u001b[0m\u001b[0;32m    266\u001b[0m                                 \u001b[0mbase_margin\u001b[0m\u001b[1;33m=\u001b[0m\u001b[0mbase_margin\u001b[0m\u001b[1;33m,\u001b[0m\u001b[1;33m\u001b[0m\u001b[1;33m\u001b[0m\u001b[0m\n\u001b[0;32m    267\u001b[0m                                 missing=self.missing, nthread=self.n_jobs)\n",
      "\u001b[1;32mc:\\Users\\I537205\\Documents\\C459\\DoR459_Proj\\venv\\lib\\site-packages\\xgboost\\core.py\u001b[0m in \u001b[0;36m__init__\u001b[1;34m(self, data, label, weight, base_margin, missing, silent, feature_names, feature_types, nthread, enable_categorical)\u001b[0m\n\u001b[0;32m    509\u001b[0m         \u001b[0mself\u001b[0m\u001b[1;33m.\u001b[0m\u001b[0mset_info\u001b[0m\u001b[1;33m(\u001b[0m\u001b[0mlabel\u001b[0m\u001b[1;33m=\u001b[0m\u001b[0mlabel\u001b[0m\u001b[1;33m,\u001b[0m \u001b[0mweight\u001b[0m\u001b[1;33m=\u001b[0m\u001b[0mweight\u001b[0m\u001b[1;33m,\u001b[0m \u001b[0mbase_margin\u001b[0m\u001b[1;33m=\u001b[0m\u001b[0mbase_margin\u001b[0m\u001b[1;33m)\u001b[0m\u001b[1;33m\u001b[0m\u001b[1;33m\u001b[0m\u001b[0m\n\u001b[0;32m    510\u001b[0m \u001b[1;33m\u001b[0m\u001b[0m\n\u001b[1;32m--> 511\u001b[1;33m         \u001b[0mself\u001b[0m\u001b[1;33m.\u001b[0m\u001b[0mfeature_names\u001b[0m \u001b[1;33m=\u001b[0m \u001b[0mfeature_names\u001b[0m\u001b[1;33m\u001b[0m\u001b[1;33m\u001b[0m\u001b[0m\n\u001b[0m\u001b[0;32m    512\u001b[0m         \u001b[0mself\u001b[0m\u001b[1;33m.\u001b[0m\u001b[0mfeature_types\u001b[0m \u001b[1;33m=\u001b[0m \u001b[0mfeature_types\u001b[0m\u001b[1;33m\u001b[0m\u001b[1;33m\u001b[0m\u001b[0m\n\u001b[0;32m    513\u001b[0m \u001b[1;33m\u001b[0m\u001b[0m\n",
      "\u001b[1;32mc:\\Users\\I537205\\Documents\\C459\\DoR459_Proj\\venv\\lib\\site-packages\\xgboost\\core.py\u001b[0m in \u001b[0;36mfeature_names\u001b[1;34m(self, feature_names)\u001b[0m\n\u001b[0;32m    824\u001b[0m \u001b[1;33m\u001b[0m\u001b[0m\n\u001b[0;32m    825\u001b[0m             \u001b[1;32mif\u001b[0m \u001b[0mlen\u001b[0m\u001b[1;33m(\u001b[0m\u001b[0mfeature_names\u001b[0m\u001b[1;33m)\u001b[0m \u001b[1;33m!=\u001b[0m \u001b[0mlen\u001b[0m\u001b[1;33m(\u001b[0m\u001b[0mset\u001b[0m\u001b[1;33m(\u001b[0m\u001b[0mfeature_names\u001b[0m\u001b[1;33m)\u001b[0m\u001b[1;33m)\u001b[0m\u001b[1;33m:\u001b[0m\u001b[1;33m\u001b[0m\u001b[1;33m\u001b[0m\u001b[0m\n\u001b[1;32m--> 826\u001b[1;33m                 \u001b[1;32mraise\u001b[0m \u001b[0mValueError\u001b[0m\u001b[1;33m(\u001b[0m\u001b[1;34m'feature_names must be unique'\u001b[0m\u001b[1;33m)\u001b[0m\u001b[1;33m\u001b[0m\u001b[1;33m\u001b[0m\u001b[0m\n\u001b[0m\u001b[0;32m    827\u001b[0m             \u001b[1;32mif\u001b[0m \u001b[0mlen\u001b[0m\u001b[1;33m(\u001b[0m\u001b[0mfeature_names\u001b[0m\u001b[1;33m)\u001b[0m \u001b[1;33m!=\u001b[0m \u001b[0mself\u001b[0m\u001b[1;33m.\u001b[0m\u001b[0mnum_col\u001b[0m\u001b[1;33m(\u001b[0m\u001b[1;33m)\u001b[0m \u001b[1;32mand\u001b[0m \u001b[0mself\u001b[0m\u001b[1;33m.\u001b[0m\u001b[0mnum_col\u001b[0m\u001b[1;33m(\u001b[0m\u001b[1;33m)\u001b[0m \u001b[1;33m!=\u001b[0m \u001b[1;36m0\u001b[0m\u001b[1;33m:\u001b[0m\u001b[1;33m\u001b[0m\u001b[1;33m\u001b[0m\u001b[0m\n\u001b[0;32m    828\u001b[0m                 \u001b[0mmsg\u001b[0m \u001b[1;33m=\u001b[0m \u001b[1;34m'feature_names must have the same length as data'\u001b[0m\u001b[1;33m\u001b[0m\u001b[1;33m\u001b[0m\u001b[0m\n",
      "\u001b[1;31mValueError\u001b[0m: feature_names must be unique"
     ]
    }
   ],
   "source": [
    "#test models\n",
    "\n",
    "for clas in tqdm(classifiers):\n",
    "    clas.fit(trainData_x,trainData_y.iloc[:,0])\n",
    "    predicted = clas.predict(validationData_x)\n",
    "    accuracy = accuracy_score(validationData_y.iloc[:,0],predicted)\n",
    "    print(\"Accuracy of %s is %s\"%(clas, accuracy))\n",
    "    con_mat = confusion_matrix(validationData_y.iloc[:,0],predicted)\n",
    "    print(\"Confusion Matrix of %s is %s\"%(clas, con_mat))"
   ]
  },
  {
   "cell_type": "code",
   "execution_count": null,
   "metadata": {},
   "outputs": [],
   "source": []
  }
 ]
}