{
  "nbformat": 4,
  "nbformat_minor": 0,
  "metadata": {
    "kernelspec": {
      "name": "python385jvsc74a57bd0247f7c4618e76eff7c429aa197a3125858b521fb51aeb6b0f2942bd7114151ad",
      "display_name": "Python 3.8.5 64-bit ('venv')"
    },
    "language_info": {
      "codemirror_mode": {
        "name": "ipython",
        "version": 3
      },
      "file_extension": ".py",
      "mimetype": "text/x-python",
      "name": "python",
      "nbconvert_exporter": "python",
      "pygments_lexer": "ipython3",
      "version": "3.8.5-final"
    },
    "metadata": {
      "interpreter": {
        "hash": "247f7c4618e76eff7c429aa197a3125858b521fb51aeb6b0f2942bd7114151ad"
      }
    },
    "colab": {
      "name": "main.ipynb",
      "provenance": []
    }
  },
  "cells": [
    {
      "cell_type": "code",
      "metadata": {
        "id": "02NUDvtG3sAf",
        "colab": {
          "base_uri": "https://localhost:8080/"
        },
        "outputId": "1d04f523-a52c-41f1-a332-064433850617"
      },
      "source": [
        "import numpy as np\n",
        "import pandas as pd\n",
        "from sklearn.model_selection import train_test_split, cross_val_score\n",
        "import sklearn.model_selection as model_selection\n",
        "from sklearn.ensemble import RandomForestClassifier\n",
        "from sklearn.ensemble import AdaBoostClassifier\n",
        "from sklearn.preprocessing import OneHotEncoder\n",
        "from sklearn.model_selection import train_test_split\n",
        "import pickle\n",
        "import xgboost as xgb\n",
        "from sklearn.metrics import confusion_matrix\n",
        "import pickle\n",
        "\n",
        "from sklearn.metrics import accuracy_score, confusion_matrix, f1_score, recall_score, precision_score\n",
        "from sklearn.neural_network import MLPClassifier\n",
        "from sklearn import svm, tree\n",
        "from sklearn.model_selection import RepeatedStratifiedKFold, cross_val_score\n",
        "from tqdm import tqdm #creates progress bar to let you know how long is left till function is complete\n",
        "import xgboost as xgb\n",
        "from imblearn.under_sampling import RandomUnderSampler\n",
        "from imblearn.over_sampling import RandomOverSampler, SMOTENC\n",
        "from imblearn.pipeline import Pipeline\n",
        "from pandas.tseries.offsets import DateOffset"
      ],
      "execution_count": 2,
      "outputs": [
        {
          "output_type": "stream",
          "text": [
            "/usr/local/lib/python3.7/dist-packages/sklearn/externals/six.py:31: FutureWarning: The module is deprecated in version 0.21 and will be removed in version 0.23 since we've dropped support for Python 2.7. Please rely on the official version of six (https://pypi.org/project/six/).\n",
            "  \"(https://pypi.org/project/six/).\", FutureWarning)\n",
            "/usr/local/lib/python3.7/dist-packages/sklearn/utils/deprecation.py:144: FutureWarning: The sklearn.neighbors.base module is  deprecated in version 0.22 and will be removed in version 0.24. The corresponding classes / functions should instead be imported from sklearn.neighbors. Anything that cannot be imported from sklearn.neighbors is now part of the private API.\n",
            "  warnings.warn(message, FutureWarning)\n"
          ],
          "name": "stderr"
        }
      ]
    },
    {
      "cell_type": "code",
      "metadata": {
        "colab": {
          "base_uri": "https://localhost:8080/"
        },
        "id": "FnWZpnZE-7R5",
        "outputId": "7df58e17-1412-4471-a9f4-570c78fd301f"
      },
      "source": [
        "from google.colab import drive\n",
        "drive.mount('/content/drive')"
      ],
      "execution_count": 5,
      "outputs": [
        {
          "output_type": "stream",
          "text": [
            "Drive already mounted at /content/drive; to attempt to forcibly remount, call drive.mount(\"/content/drive\", force_remount=True).\n"
          ],
          "name": "stdout"
        }
      ]
    },
    {
      "cell_type": "code",
      "metadata": {
        "id": "869-2tHG3sAo"
      },
      "source": [
        "df = pd.read_csv('/content/drive/MyDrive/DoR/cases_train_processed.csv')\n",
        "df = df.drop(['Unnamed: 0','index','source','additional_information','Last_Update','Lat_right','Long_right','Province_State','Country_Region','dist_between_in_km'],1)\n",
        "df['Confirmed'].fillna(df['Confirmed'].mean(),inplace=True)\n",
        "df['Deaths'].fillna(df.Deaths.mean(),inplace=True)\n",
        "df['Recovered'].fillna(df.Recovered.mean(),inplace=True)\n",
        "df['Active'].fillna(df.Active.mean(),inplace=True)\n",
        "df['Incidence_Rate'].fillna(df.Incidence_Rate.mean(),inplace=True)\n",
        "df['Case-Fatality_Ratio'].fillna(df['Case-Fatality_Ratio'].mean(),inplace=True)\n",
        "df.date_confirmation = pd.to_datetime(df.date_confirmation,infer_datetime_format=True) \n",
        "df.Combined_Key.fillna((df.province+\" ,\"+df.country),inplace=True)"
      ],
      "execution_count": 3,
      "outputs": []
    },
    {
      "cell_type": "code",
      "metadata": {
        "id": "7lV4PwHx3sAq",
        "colab": {
          "base_uri": "https://localhost:8080/"
        },
        "outputId": "77b168b4-25d9-4129-f2c6-51fdbe634478"
      },
      "source": [
        "# df.age = df.age.astype('object')\n",
        "test_df = df.loc[0:20].copy()\n"
      ],
      "execution_count": 258,
      "outputs": [
        {
          "output_type": "execute_result",
          "data": {
            "text/plain": [
              "IntervalIndex([(2020-01-02, 2020-01-16], (2020-01-16, 2020-01-30], (2020-01-30, 2020-02-13], (2020-02-13, 2020-02-27], (2020-02-27, 2020-03-12] ... (2020-10-08, 2020-10-22], (2020-10-22, 2020-11-05], (2020-11-05, 2020-11-19], (2020-11-19, 2020-12-03], (2020-12-03, 2020-12-17]],\n",
              "              closed='right',\n",
              "              dtype='interval[datetime64[ns]]')"
            ]
          },
          "metadata": {
            "tags": []
          },
          "execution_count": 258
        }
      ]
    },
    {
      "cell_type": "markdown",
      "metadata": {
        "id": "g466tzVM1m-d"
      },
      "source": [
        "# Make 2 week bins for date_confirmation "
      ]
    },
    {
      "cell_type": "code",
      "metadata": {
        "id": "YvZPGyRxZS2S"
      },
      "source": [
        "def getDateBins(data):\n",
        "\n",
        "  \"\"\" funtion takes in the date column, creates an array of 2 week intervals\n",
        "   starting from the earliest day in the dataset\n",
        "    and returns a dictionary of ordinal data where the k is the new label\n",
        "    and value is the 2 week interval.\n",
        "    ex: earliest confrimed date is 2020-01-02 -> \n",
        "    interval is (2020-01-02, 2020-01-16). dict returns 1:(2020-01-02, 2020-01-16)\n",
        "  \"\"\"\n",
        "  start_date = data.min() - DateOffset(days=14)#earliest date + buffer\n",
        "  print(\"start date is \",start_date)\n",
        "  end_date = data.max() + DateOffset(days=14) #buffer to make sure nothing missed\n",
        "  print(\"end date is \", end_date)\n",
        "  date_interval = pd.interval_range(start=start_date,end=end_date,freq='14D')\n",
        "  date_dict = {}\n",
        "  for i in range(len(date_interval)):\n",
        "    date_dict[i+1] = date_interval[i]\n",
        "  return date_dict\n",
        "\n",
        "def binDate(row_date,ddict):\n",
        "  \"\"\" input is date_confrimation column. if date is in interval\n",
        "  returns the dictionary key\"\"\"\n",
        "  for k,v in ddict.items():\n",
        "    # if row_date in v:\n",
        "    #   print(\"here is key \",k)\n",
        "    #   print(\"here is interval\",v)\n",
        "    if row_date in v:\n",
        "      return k\n"
      ],
      "execution_count": 4,
      "outputs": []
    },
    {
      "cell_type": "code",
      "metadata": {
        "colab": {
          "base_uri": "https://localhost:8080/"
        },
        "id": "0CWLuvwaWWw7",
        "outputId": "acf8e0f4-5888-43a8-9065-8011eb91e098"
      },
      "source": [
        "#add bins to dataframe\n",
        "%%time\n",
        "dateBinDict = getDateBins(df.date_confirmation)\n",
        "df['date_labels'] = df.date_confirmation.apply(lambda curr_date : binDate(curr_date,dateBinDict))"
      ],
      "execution_count": 5,
      "outputs": [
        {
          "output_type": "stream",
          "text": [
            "start date is  2019-12-19 00:00:00\n",
            "end date is  2020-12-20 00:00:00\n",
            "CPU times: user 4 s, sys: 37.6 ms, total: 4.04 s\n",
            "Wall time: 4.06 s\n"
          ],
          "name": "stdout"
        }
      ]
    },
    {
      "cell_type": "markdown",
      "metadata": {
        "id": "yI_HUPJD3sAu"
      },
      "source": [
        "# TEsting Over and Under Sampling \n",
        "----------------------------------------------------------"
      ]
    },
    {
      "cell_type": "code",
      "metadata": {
        "id": "bOr7sicl3sAu"
      },
      "source": [
        "#drops duplicated columns created\n",
        "def dropDuplicates(data):\n",
        "    duplicates = data.columns[data.columns.duplicated()]\n",
        "    if len(duplicates) > 0:\n",
        "        data = data.loc[:,~data.columns.duplicated()]\n",
        "    return data\n",
        "\n",
        "#drops all the columns not used in X_train\n",
        "def colsToDrop(dataframe):\n",
        "    if 'outcome' in dataframe.columns:\n",
        "        dataframe = dataframe.drop('outcome',1)\n",
        "        print(\"dropping the outcome column\")\n",
        "    if 'Combined_Key' in dataframe.columns:\n",
        "        dataframe = dataframe.drop('Combined_Key',1)\n",
        "        print(\"dropping Combined_Key\")\n",
        "    if 'dist_between_in_km' in dataframe.columns:\n",
        "        dataframe = dataframe.drop('dist_between_in_km',1)\n",
        "        print(\"dropping dist in km column\")\n",
        "    if 'date_confirmation' in dataframe.columns:\n",
        "        dataframe = dataframe.drop('date_confirmation',1)\n",
        "        print(\"dropping date\")\n",
        "    if 'date_labels' in dataframe.columns:\n",
        "        dataframe.date_labels = dataframe.date_labels.astype('object')\n",
        "        print(\"converting date to categorical\")\n",
        "    if 'age' in dataframe.columns:\n",
        "        dataframe.age = dataframe.age.astype('object')\n",
        "        print(\"converting age to categorical\")\n",
        "    return dataframe\n",
        "    \n",
        "    # once hot encode and add new cols to dataframe\n",
        "def oneHotEncode_df(dataframe):\n",
        "    dataframe = colsToDrop(dataframe)\n",
        "    col2Encode = list(dataframe.select_dtypes(include=['object'])) #gets a list of all the features that are objects assumption is that those are categorical\n",
        "    dummies = pd.get_dummies(dataframe,columns=col2Encode,prefix=col2Encode,sparse=True)\n",
        "    res = pd.concat([dataframe, dummies], axis=1)\n",
        "    #if we decide to drop one hot encoded values\n",
        "    res = res.drop(col2Encode, axis=1)\n",
        "    output = dropDuplicates(res)\n",
        "    return output\n",
        "\n",
        "    # SMOTENC needs a list of the indices of all the categorical variables in dataset\n",
        "    # ex: if country is column 2 and age is col 13. returns [2,13]\n",
        "def getCategoricalIndices(dataframe):\n",
        "    #get the indices of all the categorical variables\n",
        "    numericalVar = list(dataframe.select_dtypes(include=['float64']))\n",
        "    catlist = list(dataframe.columns.difference(numericalVar))\n",
        "    print(\"these are the categorical features: {}\".format(catlist))\n",
        "    indlist = []\n",
        "    for i in catlist:\n",
        "        indlist.append(dataframe.columns.get_loc(i))\n",
        "    return indlist"
      ],
      "execution_count": 7,
      "outputs": []
    },
    {
      "cell_type": "code",
      "metadata": {
        "colab": {
          "base_uri": "https://localhost:8080/"
        },
        "id": "VwNytoqcAL7L",
        "outputId": "ad21a525-2eeb-4de9-9f4f-2988ca1d7588"
      },
      "source": [
        "%%time\n",
        "# Perform Oversampling before ohe.\n",
        "#so drop columns not used in independent var \n",
        "sparse_df = colsToDrop(df)\n",
        "#get list of categorical indices\n",
        "catIndList = getCategoricalIndices(sparse_df)"
      ],
      "execution_count": 8,
      "outputs": [
        {
          "output_type": "stream",
          "text": [
            "dropping the outcome column\n",
            "dropping Combined_Key\n",
            "dropping date\n",
            "converting date to categorical\n",
            "converting age to categorical\n",
            "these are the categorical features: ['age', 'country', 'date_labels', 'province', 'sex']\n",
            "CPU times: user 109 ms, sys: 1.9 ms, total: 111 ms\n",
            "Wall time: 117 ms\n"
          ],
          "name": "stdout"
        }
      ]
    },
    {
      "cell_type": "code",
      "metadata": {
        "colab": {
          "base_uri": "https://localhost:8080/"
        },
        "id": "I93eydwMoU7P",
        "outputId": "266ed7be-63b0-4ad7-b523-3389028a01a1"
      },
      "source": [
        "sparse_df.date_labels.value_counts()"
      ],
      "execution_count": 420,
      "outputs": [
        {
          "output_type": "execute_result",
          "data": {
            "text/plain": [
              "12    111994\n",
              "11     72764\n",
              "10     30956\n",
              "9      25954\n",
              "8      17054\n",
              "7      16305\n",
              "2      15690\n",
              "21      8962\n",
              "15      8941\n",
              "23      8707\n",
              "6       8695\n",
              "26      8619\n",
              "19      8246\n",
              "4       8204\n",
              "17      7714\n",
              "13      7122\n",
              "3        742\n",
              "5        441\n",
              "25       323\n",
              "14        76\n",
              "24        65\n",
              "1         60\n",
              "Name: date_labels, dtype: int64"
            ]
          },
          "metadata": {
            "tags": []
          },
          "execution_count": 420
        }
      ]
    },
    {
      "cell_type": "code",
      "metadata": {
        "colab": {
          "base_uri": "https://localhost:8080/"
        },
        "id": "kss489JZAPMw",
        "outputId": "f207cf03-d905-4b6f-d672-3721d5c2de0c"
      },
      "source": [
        "%%time\n",
        "#oversample \n",
        "oversample = SMOTENC(categorical_features=catIndList,random_state=0,sampling_strategy='not majority')\n",
        "x_o,y_o = oversample.fit_resample(sparse_df,df.outcome)"
      ],
      "execution_count": 401,
      "outputs": [
        {
          "output_type": "stream",
          "text": [
            "/usr/local/lib/python3.7/dist-packages/sklearn/utils/deprecation.py:87: FutureWarning: Function safe_indexing is deprecated; safe_indexing is deprecated in version 0.22 and will be removed in version 0.24.\n",
            "  warnings.warn(msg, category=FutureWarning)\n",
            "/usr/local/lib/python3.7/dist-packages/sklearn/utils/deprecation.py:87: FutureWarning: Function safe_indexing is deprecated; safe_indexing is deprecated in version 0.22 and will be removed in version 0.24.\n",
            "  warnings.warn(msg, category=FutureWarning)\n"
          ],
          "name": "stderr"
        },
        {
          "output_type": "stream",
          "text": [
            "CPU times: user 25min 41s, sys: 8.35 s, total: 25min 49s\n",
            "Wall time: 25min 38s\n"
          ],
          "name": "stdout"
        }
      ]
    },
    {
      "cell_type": "code",
      "metadata": {
        "id": "if0AtqdZHB29"
      },
      "source": [
        "# join dependent and independent var back together to save to csv\n",
        "over_np = np.column_stack([x_o,y_o])"
      ],
      "execution_count": 402,
      "outputs": []
    },
    {
      "cell_type": "code",
      "metadata": {
        "id": "WtO9M8G-JoC-",
        "colab": {
          "base_uri": "https://localhost:8080/"
        },
        "outputId": "ef61c20b-22ff-4200-db64-eb445bd58b9a"
      },
      "source": [
        "#creating headers to convert oversample data back to dataframe b4 saving to csv\n",
        "coll = list(sparse_df.columns)\n",
        "coll.append('outcome')\n",
        "coll"
      ],
      "execution_count": 403,
      "outputs": [
        {
          "output_type": "execute_result",
          "data": {
            "text/plain": [
              "['age',\n",
              " 'sex',\n",
              " 'province',\n",
              " 'country',\n",
              " 'Confirmed',\n",
              " 'Deaths',\n",
              " 'Recovered',\n",
              " 'Active',\n",
              " 'Incidence_Rate',\n",
              " 'Case-Fatality_Ratio',\n",
              " 'date_labels',\n",
              " 'outcome']"
            ]
          },
          "metadata": {
            "tags": []
          },
          "execution_count": 403
        }
      ]
    },
    {
      "cell_type": "code",
      "metadata": {
        "colab": {
          "base_uri": "https://localhost:8080/",
          "height": 424
        },
        "id": "ZlFBNjMQmb_p",
        "outputId": "88acb769-3670-47ec-e01a-852579bd2dd9"
      },
      "source": [
        "# newO_df = pd.DataFrame(over_np,columns=coll)\n",
        "newO_df"
      ],
      "execution_count": 424,
      "outputs": [
        {
          "output_type": "execute_result",
          "data": {
            "text/html": [
              "<div>\n",
              "<style scoped>\n",
              "    .dataframe tbody tr th:only-of-type {\n",
              "        vertical-align: middle;\n",
              "    }\n",
              "\n",
              "    .dataframe tbody tr th {\n",
              "        vertical-align: top;\n",
              "    }\n",
              "\n",
              "    .dataframe thead th {\n",
              "        text-align: right;\n",
              "    }\n",
              "</style>\n",
              "<table border=\"1\" class=\"dataframe\">\n",
              "  <thead>\n",
              "    <tr style=\"text-align: right;\">\n",
              "      <th></th>\n",
              "      <th>age</th>\n",
              "      <th>sex</th>\n",
              "      <th>province</th>\n",
              "      <th>country</th>\n",
              "      <th>Confirmed</th>\n",
              "      <th>Deaths</th>\n",
              "      <th>Recovered</th>\n",
              "      <th>Active</th>\n",
              "      <th>Incidence_Rate</th>\n",
              "      <th>Case-Fatality_Ratio</th>\n",
              "      <th>date_labels</th>\n",
              "      <th>outcome</th>\n",
              "    </tr>\n",
              "  </thead>\n",
              "  <tbody>\n",
              "    <tr>\n",
              "      <th>0</th>\n",
              "      <td>7</td>\n",
              "      <td>Unknown</td>\n",
              "      <td>Delhi</td>\n",
              "      <td>India</td>\n",
              "      <td>238828</td>\n",
              "      <td>4907</td>\n",
              "      <td>201671</td>\n",
              "      <td>32250</td>\n",
              "      <td>1276.41</td>\n",
              "      <td>2.05462</td>\n",
              "      <td>12</td>\n",
              "      <td>recovered</td>\n",
              "    </tr>\n",
              "    <tr>\n",
              "      <th>1</th>\n",
              "      <td>7</td>\n",
              "      <td>Unknown</td>\n",
              "      <td>Uttar Pradesh</td>\n",
              "      <td>India</td>\n",
              "      <td>342788</td>\n",
              "      <td>4869</td>\n",
              "      <td>270094</td>\n",
              "      <td>67825</td>\n",
              "      <td>144.1</td>\n",
              "      <td>1.42041</td>\n",
              "      <td>11</td>\n",
              "      <td>hospitalized</td>\n",
              "    </tr>\n",
              "    <tr>\n",
              "      <th>2</th>\n",
              "      <td>7</td>\n",
              "      <td>Unknown</td>\n",
              "      <td>Maharashtra</td>\n",
              "      <td>India</td>\n",
              "      <td>2859</td>\n",
              "      <td>2</td>\n",
              "      <td>2639</td>\n",
              "      <td>218</td>\n",
              "      <td>464.331</td>\n",
              "      <td>0.0699545</td>\n",
              "      <td>12</td>\n",
              "      <td>hospitalized</td>\n",
              "    </tr>\n",
              "    <tr>\n",
              "      <th>3</th>\n",
              "      <td>3</td>\n",
              "      <td>female</td>\n",
              "      <td>Baden-Wurttemberg</td>\n",
              "      <td>Germany</td>\n",
              "      <td>46779</td>\n",
              "      <td>1871</td>\n",
              "      <td>41228</td>\n",
              "      <td>3680</td>\n",
              "      <td>422.592</td>\n",
              "      <td>3.99966</td>\n",
              "      <td>7</td>\n",
              "      <td>nonhospitalized</td>\n",
              "    </tr>\n",
              "    <tr>\n",
              "      <th>4</th>\n",
              "      <td>7</td>\n",
              "      <td>Unknown</td>\n",
              "      <td>Gujarat</td>\n",
              "      <td>India</td>\n",
              "      <td>120336</td>\n",
              "      <td>3286</td>\n",
              "      <td>100974</td>\n",
              "      <td>16076</td>\n",
              "      <td>188.401</td>\n",
              "      <td>2.73069</td>\n",
              "      <td>11</td>\n",
              "      <td>hospitalized</td>\n",
              "    </tr>\n",
              "    <tr>\n",
              "      <th>...</th>\n",
              "      <td>...</td>\n",
              "      <td>...</td>\n",
              "      <td>...</td>\n",
              "      <td>...</td>\n",
              "      <td>...</td>\n",
              "      <td>...</td>\n",
              "      <td>...</td>\n",
              "      <td>...</td>\n",
              "      <td>...</td>\n",
              "      <td>...</td>\n",
              "      <td>...</td>\n",
              "      <td>...</td>\n",
              "    </tr>\n",
              "    <tr>\n",
              "      <th>599987</th>\n",
              "      <td>7</td>\n",
              "      <td>Unknown</td>\n",
              "      <td>Bihar</td>\n",
              "      <td>India</td>\n",
              "      <td>165218</td>\n",
              "      <td>859</td>\n",
              "      <td>151750</td>\n",
              "      <td>12609</td>\n",
              "      <td>132.386</td>\n",
              "      <td>0.519919</td>\n",
              "      <td>12</td>\n",
              "      <td>recovered</td>\n",
              "    </tr>\n",
              "    <tr>\n",
              "      <th>599988</th>\n",
              "      <td>7</td>\n",
              "      <td>Unknown</td>\n",
              "      <td>Uttar Pradesh</td>\n",
              "      <td>India</td>\n",
              "      <td>238828</td>\n",
              "      <td>4907</td>\n",
              "      <td>201671</td>\n",
              "      <td>32250</td>\n",
              "      <td>1276.41</td>\n",
              "      <td>2.05462</td>\n",
              "      <td>10</td>\n",
              "      <td>recovered</td>\n",
              "    </tr>\n",
              "    <tr>\n",
              "      <th>599989</th>\n",
              "      <td>7</td>\n",
              "      <td>Unknown</td>\n",
              "      <td>Maharashtra</td>\n",
              "      <td>India</td>\n",
              "      <td>2859</td>\n",
              "      <td>2</td>\n",
              "      <td>2639</td>\n",
              "      <td>218</td>\n",
              "      <td>464.331</td>\n",
              "      <td>0.0699545</td>\n",
              "      <td>11</td>\n",
              "      <td>recovered</td>\n",
              "    </tr>\n",
              "    <tr>\n",
              "      <th>599990</th>\n",
              "      <td>7</td>\n",
              "      <td>female</td>\n",
              "      <td>Gujarat</td>\n",
              "      <td>India</td>\n",
              "      <td>120336</td>\n",
              "      <td>3286</td>\n",
              "      <td>100974</td>\n",
              "      <td>16076</td>\n",
              "      <td>188.401</td>\n",
              "      <td>2.73069</td>\n",
              "      <td>12</td>\n",
              "      <td>recovered</td>\n",
              "    </tr>\n",
              "    <tr>\n",
              "      <th>599991</th>\n",
              "      <td>7</td>\n",
              "      <td>Unknown</td>\n",
              "      <td>Tamil Nadu</td>\n",
              "      <td>India</td>\n",
              "      <td>21913</td>\n",
              "      <td>462</td>\n",
              "      <td>16715</td>\n",
              "      <td>4736</td>\n",
              "      <td>1550.22</td>\n",
              "      <td>2.10834</td>\n",
              "      <td>12</td>\n",
              "      <td>recovered</td>\n",
              "    </tr>\n",
              "  </tbody>\n",
              "</table>\n",
              "<p>599992 rows × 12 columns</p>\n",
              "</div>"
            ],
            "text/plain": [
              "       age      sex  ... date_labels          outcome\n",
              "0        7  Unknown  ...          12        recovered\n",
              "1        7  Unknown  ...          11     hospitalized\n",
              "2        7  Unknown  ...          12     hospitalized\n",
              "3        3   female  ...           7  nonhospitalized\n",
              "4        7  Unknown  ...          11     hospitalized\n",
              "...     ..      ...  ...         ...              ...\n",
              "599987   7  Unknown  ...          12        recovered\n",
              "599988   7  Unknown  ...          10        recovered\n",
              "599989   7  Unknown  ...          11        recovered\n",
              "599990   7   female  ...          12        recovered\n",
              "599991   7  Unknown  ...          12        recovered\n",
              "\n",
              "[599992 rows x 12 columns]"
            ]
          },
          "metadata": {
            "tags": []
          },
          "execution_count": 424
        }
      ]
    },
    {
      "cell_type": "code",
      "metadata": {
        "id": "poWQb5FfKMkD"
      },
      "source": [
        "# save oversampled data to csv\n",
        "pd.DataFrame(over_np,columns=coll).to_csv(\"/content/drive/MyDrive/DoR/oversampledWithDates.csv\")"
      ],
      "execution_count": 404,
      "outputs": []
    },
    {
      "cell_type": "markdown",
      "metadata": {
        "id": "8IuoglbfCyyZ"
      },
      "source": [
        "------------------------------ END OF OVERSAMPLING----------------------------- "
      ]
    },
    {
      "cell_type": "markdown",
      "metadata": {
        "id": "C9DK5w9lwPVe"
      },
      "source": [
        "**------------------------------ START OF ANALYSIS WITH OVERSAMPLED DATA--------------------------------------------------------------------------**"
      ]
    },
    {
      "cell_type": "code",
      "metadata": {
        "id": "IzKvw5Gxtocl"
      },
      "source": [
        "o_df = pd.read_csv('/content/drive/MyDrive/DoR/oversampledWithDates.csv')"
      ],
      "execution_count": 9,
      "outputs": []
    },
    {
      "cell_type": "code",
      "metadata": {
        "colab": {
          "base_uri": "https://localhost:8080/"
        },
        "id": "jO4NwEaMOyDw",
        "outputId": "c50f7c69-71d2-4ed0-9052-53e06ab02461"
      },
      "source": [
        "# ensure age is categorical, drop unwanted columns\n",
        "o_df.age = o_df.age.astype('object')\n",
        "y_tr = o_df.outcome\n",
        "X_tr = o_df\n",
        "if 'outcome' in X_tr.columns:\n",
        "      X_tr = X_tr.drop('outcome',1)\n",
        "      print(\"dropping the outcome column\")\n",
        "if 'Unnamed: 0' in X_tr.columns:\n",
        "      X_tr = X_tr.drop('Unnamed: 0',1)\n",
        "      print(\"dropping the Unnamed column\")      \n",
        "\n"
      ],
      "execution_count": 10,
      "outputs": [
        {
          "output_type": "stream",
          "text": [
            "dropping the outcome column\n",
            "dropping the Unnamed column\n"
          ],
          "name": "stdout"
        }
      ]
    },
    {
      "cell_type": "markdown",
      "metadata": {
        "id": "3poL1rDXC4D1"
      },
      "source": [
        "--------------------------------------------------------"
      ]
    },
    {
      "cell_type": "markdown",
      "metadata": {
        "id": "aC6j_Wkqs9CC"
      },
      "source": [
        "# Adding more deceased to original dataset. Target 5% and 10%"
      ]
    },
    {
      "cell_type": "code",
      "metadata": {
        "colab": {
          "base_uri": "https://localhost:8080/"
        },
        "id": "2cz4SHZwpIAC",
        "outputId": "7d06254c-2304-47cb-b966-125b3642099b"
      },
      "source": [
        "deceasedSubset = o_df[o_df.outcome=='deceased'].sample(n=40000) #10%\n",
        "deceasedSubset = deceasedSubset.drop('Unnamed: 0',1)\n",
        "deceasedSubset.columns"
      ],
      "execution_count": 35,
      "outputs": [
        {
          "output_type": "execute_result",
          "data": {
            "text/plain": [
              "Index(['age', 'sex', 'province', 'country', 'Confirmed', 'Deaths', 'Recovered',\n",
              "       'Active', 'Incidence_Rate', 'Case-Fatality_Ratio', 'date_labels',\n",
              "       'outcome'],\n",
              "      dtype='object')"
            ]
          },
          "metadata": {
            "tags": []
          },
          "execution_count": 35
        }
      ]
    },
    {
      "cell_type": "code",
      "metadata": {
        "id": "cq6EH6PbrPaS"
      },
      "source": [
        "deceased_df = sparse_df.copy()\n",
        "deceased_df['outcome'] = df.outcome.copy()\n"
      ],
      "execution_count": 36,
      "outputs": []
    },
    {
      "cell_type": "code",
      "metadata": {
        "colab": {
          "base_uri": "https://localhost:8080/"
        },
        "id": "tC_jEe1msIvq",
        "outputId": "742e5998-da34-4a55-9ee0-82741b0df256"
      },
      "source": [
        "#proportions before adding more to dataset\n",
        "deceased_df.outcome.value_counts() /len(deceased_df.outcome)"
      ],
      "execution_count": 37,
      "outputs": [
        {
          "output_type": "execute_result",
          "data": {
            "text/plain": [
              "nonhospitalized    0.408009\n",
              "hospitalized       0.340012\n",
              "recovered          0.239741\n",
              "deceased           0.012238\n",
              "Name: outcome, dtype: float64"
            ]
          },
          "metadata": {
            "tags": []
          },
          "execution_count": 37
        }
      ]
    },
    {
      "cell_type": "code",
      "metadata": {
        "colab": {
          "base_uri": "https://localhost:8080/"
        },
        "id": "UC9VDEvhrYwT",
        "outputId": "4d78204f-a22b-4aab-ae88-3f322fc22142"
      },
      "source": [
        "#proportions after adding more to dataset\n",
        "deceased_df = deceased_df.append(deceasedSubset)\n",
        "deceased_df.outcome.value_counts() /len(deceased_df.outcome)"
      ],
      "execution_count": 38,
      "outputs": [
        {
          "output_type": "execute_result",
          "data": {
            "text/plain": [
              "nonhospitalized    0.367972\n",
              "hospitalized       0.306648\n",
              "recovered          0.216216\n",
              "deceased           0.109164\n",
              "Name: outcome, dtype: float64"
            ]
          },
          "metadata": {
            "tags": []
          },
          "execution_count": 38
        }
      ]
    },
    {
      "cell_type": "code",
      "metadata": {
        "id": "brxRmwm_tM47"
      },
      "source": [
        "#save to csv for later analysis\n",
        "deceased_df.to_csv('/content/drive/MyDrive/DoR/deceased10percentwithDate.csv')"
      ],
      "execution_count": 39,
      "outputs": []
    },
    {
      "cell_type": "code",
      "metadata": {
        "id": "qlCagqrZuI2b"
      },
      "source": [
        "y_tr = deceased_df.outcome\n",
        "X_tr = deceased_df.drop('outcome',1)"
      ],
      "execution_count": 41,
      "outputs": []
    },
    {
      "cell_type": "code",
      "metadata": {
        "colab": {
          "base_uri": "https://localhost:8080/"
        },
        "id": "i22Wmfl83sAv",
        "outputId": "9616f9a3-8c1f-4e0d-a7e4-a194caf77006"
      },
      "source": [
        "%%time\n",
        "# add dummy variables  \n",
        "ohe_df = oneHotEncode_df(X_tr)\n",
        "ohe_df\n",
        "res = ohe_df.to_numpy()"
      ],
      "execution_count": 42,
      "outputs": [
        {
          "output_type": "stream",
          "text": [
            "converting date to categorical\n",
            "converting age to categorical\n",
            "CPU times: user 2.65 s, sys: 2.52 s, total: 5.16 s\n",
            "Wall time: 5.18 s\n"
          ],
          "name": "stdout"
        }
      ]
    },
    {
      "cell_type": "markdown",
      "metadata": {
        "id": "gZ-8waA7uxoG"
      },
      "source": [
        "## ---------------------------- END OF PROCESSING AND OHE --------------------------------------"
      ]
    },
    {
      "cell_type": "code",
      "metadata": {
        "colab": {
          "base_uri": "https://localhost:8080/"
        },
        "id": "1DRJHvEw3sAx",
        "outputId": "8262016a-f4e4-4da3-bc66-f997393ec96e"
      },
      "source": [
        "%%time\n",
        "# #transform data\n",
        "# oversample = SMOTENC(categorical_features=indlist,random_state=0,sampling_strategy='not majority')\n",
        "# undersample = RandomUnderSampler()\n",
        "# rfclassifier = RandomForestClassifier(n_estimators=25,random_state=0)\n",
        "# #define pipeline\n",
        "# steps = [('over',oversample),('under',undersample),('model',rfclassifier)]\n",
        "# pipeline = Pipeline(steps=steps)\n",
        "# #eval pipeline\n",
        "# cv = RepeatedStratifiedKFold(n_splits=10, n_repeats=2,random_state=0)\n",
        "# scores = cross_val_score(pipeline,x,y,scoring='f1',cv=cv,n_jobs=1)\n",
        "# print('Mean F1: %.3f' %mean(scores))\n"
      ],
      "execution_count": null,
      "outputs": [
        {
          "output_type": "stream",
          "text": [
            "/usr/local/lib/python3.7/dist-packages/sklearn/utils/deprecation.py:87: FutureWarning: Function safe_indexing is deprecated; safe_indexing is deprecated in version 0.22 and will be removed in version 0.24.\n",
            "  warnings.warn(msg, category=FutureWarning)\n"
          ],
          "name": "stderr"
        }
      ]
    },
    {
      "cell_type": "markdown",
      "metadata": {
        "id": "S01w6fcW5VGm"
      },
      "source": [
        "------------------------------------------------------------------------------------------------------------------------------------------------------------------------------------------------------------------------------------------------"
      ]
    },
    {
      "cell_type": "code",
      "metadata": {
        "id": "Qi--AFmw3sA1"
      },
      "source": [
        "%%time\n",
        "# X = res\n",
        "# y = df['outcome'].values\n",
        "X_train, X_test, y_train, y_test = train_test_split(x, y, test_size=0.2)"
      ],
      "execution_count": 118,
      "outputs": []
    },
    {
      "cell_type": "code",
      "metadata": {
        "scrolled": false,
        "id": "_uH_XC7V3sA1",
        "outputId": "ee555275-07eb-4985-f0cb-2a4f1445f25e"
      },
      "source": [
        "xgb_model = xgb.XGBClassifier(n_estimators=50)\n",
        "xgb_model.fit(X_train,y_train)\n",
        "pickle.dump( xgb_model, open( \"../models/xgboost50.pkl\", \"wb\" ) )"
      ],
      "execution_count": null,
      "outputs": [
        {
          "output_type": "stream",
          "text": [
            "C:\\Users\\Oliver Fujiki\\anaconda3\\lib\\site-packages\\xgboost\\sklearn.py:888: UserWarning: The use of label encoder in XGBClassifier is deprecated and will be removed in a future release. To remove this warning, do the following: 1) Pass option use_label_encoder=False when constructing XGBClassifier object; and 2) Encode your labels (y) as integers starting with 0, i.e. 0, 1, 2, ..., [num_class - 1].\n",
            "  warnings.warn(label_encoder_deprecation_msg, UserWarning)\n"
          ],
          "name": "stderr"
        },
        {
          "output_type": "stream",
          "text": [
            "[23:17:48] WARNING: C:/Users/Administrator/workspace/xgboost-win64_release_1.3.0/src/learner.cc:1061: Starting in XGBoost 1.3.0, the default evaluation metric used with the objective 'multi:softprob' was changed from 'merror' to 'mlogloss'. Explicitly set eval_metric if you'd like to restore the old behavior.\n"
          ],
          "name": "stdout"
        }
      ]
    },
    {
      "cell_type": "code",
      "metadata": {
        "scrolled": true,
        "id": "OGaVBUgO3sA3"
      },
      "source": [
        "trueXGBoost = pickle.load( open( '../models/xgboost50.pkl', \"rb\" ) )\n",
        "XGprediction = list(trueXGBoost.predict(X_test))\n",
        "xgConfusionMatrix = confusion_matrix(y_test, XGprediction, labels=[\"recovered\",\"nonhospitalized\",\"hospitalized\",\"deceased\"])"
      ],
      "execution_count": null,
      "outputs": []
    },
    {
      "cell_type": "code",
      "metadata": {
        "scrolled": true,
        "id": "vhezeZvd3sA3",
        "outputId": "0f8ff24d-c0c3-45dc-faa2-0542fc8aa6ea"
      },
      "source": [
        "pd.DataFrame(xgConfusionMatrix).rename(index = {0:\"recovered\", 1: \"nonhospitalized\", 2: \"hospitalized\", 3: \"deceased\"}, columns = {0:\"recovered\", 1: \"nonhospitalized\", 2: \"hospitalized\", 3: \"deceased\"})"
      ],
      "execution_count": null,
      "outputs": [
        {
          "output_type": "execute_result",
          "data": {
            "text/html": [
              "<div>\n",
              "<style scoped>\n",
              "    .dataframe tbody tr th:only-of-type {\n",
              "        vertical-align: middle;\n",
              "    }\n",
              "\n",
              "    .dataframe tbody tr th {\n",
              "        vertical-align: top;\n",
              "    }\n",
              "\n",
              "    .dataframe thead th {\n",
              "        text-align: right;\n",
              "    }\n",
              "</style>\n",
              "<table border=\"1\" class=\"dataframe\">\n",
              "  <thead>\n",
              "    <tr style=\"text-align: right;\">\n",
              "      <th></th>\n",
              "      <th>recovered</th>\n",
              "      <th>nonhospitalized</th>\n",
              "      <th>hospitalized</th>\n",
              "      <th>deceased</th>\n",
              "    </tr>\n",
              "  </thead>\n",
              "  <tbody>\n",
              "    <tr>\n",
              "      <th>recovered</th>\n",
              "      <td>5888</td>\n",
              "      <td>376</td>\n",
              "      <td>11440</td>\n",
              "      <td>7</td>\n",
              "    </tr>\n",
              "    <tr>\n",
              "      <th>nonhospitalized</th>\n",
              "      <td>92</td>\n",
              "      <td>29942</td>\n",
              "      <td>10</td>\n",
              "      <td>5</td>\n",
              "    </tr>\n",
              "    <tr>\n",
              "      <th>hospitalized</th>\n",
              "      <td>999</td>\n",
              "      <td>5</td>\n",
              "      <td>23881</td>\n",
              "      <td>3</td>\n",
              "    </tr>\n",
              "    <tr>\n",
              "      <th>deceased</th>\n",
              "      <td>87</td>\n",
              "      <td>79</td>\n",
              "      <td>683</td>\n",
              "      <td>30</td>\n",
              "    </tr>\n",
              "  </tbody>\n",
              "</table>\n",
              "</div>"
            ],
            "text/plain": [
              "                 recovered  nonhospitalized  hospitalized  deceased\n",
              "recovered             5888              376         11440         7\n",
              "nonhospitalized         92            29942            10         5\n",
              "hospitalized           999                5         23881         3\n",
              "deceased                87               79           683        30"
            ]
          },
          "metadata": {
            "tags": []
          },
          "execution_count": 59
        }
      ]
    },
    {
      "cell_type": "code",
      "metadata": {
        "id": "Lm6PUbqm3sA4"
      },
      "source": [
        "clf = AdaBoostClassifier(n_estimators=10, random_state=0)\n",
        "clf.fit(X_train, y_train)\n",
        "pickle.dump( clf, open( \"../models/AdaBoost10.pkl\", \"wb\" ) )"
      ],
      "execution_count": null,
      "outputs": []
    },
    {
      "cell_type": "code",
      "metadata": {
        "id": "Sh1s-63n3sA4"
      },
      "source": [
        "trueAdaBoost = pickle.load( open( '../models/AdaBoost10.pkl', \"rb\" ) )\n",
        "adaBoostprediction = list(trueAdaBoost.predict(X_test))\n",
        "adaConfusionMatrix = confusion_matrix(y_test, adaBoostprediction, labels=[\"recovered\",\"nonhospitalized\",\"hospitalized\",\"deceased\"])"
      ],
      "execution_count": null,
      "outputs": []
    },
    {
      "cell_type": "code",
      "metadata": {
        "scrolled": true,
        "id": "0CjqCR4N3sA4",
        "outputId": "1bd4a732-d025-4b91-c9e1-faa07bead9de"
      },
      "source": [
        "pd.DataFrame(adaConfusionMatrix).rename(index = {0:\"recovered\", 1: \"nonhospitalized\", 2: \"hospitalized\", 3: \"deceased\"}, columns = {0:\"recovered\", 1: \"nonhospitalized\", 2: \"hospitalized\", 3: \"deceased\"})"
      ],
      "execution_count": null,
      "outputs": [
        {
          "output_type": "execute_result",
          "data": {
            "text/html": [
              "<div>\n",
              "<style scoped>\n",
              "    .dataframe tbody tr th:only-of-type {\n",
              "        vertical-align: middle;\n",
              "    }\n",
              "\n",
              "    .dataframe tbody tr th {\n",
              "        vertical-align: top;\n",
              "    }\n",
              "\n",
              "    .dataframe thead th {\n",
              "        text-align: right;\n",
              "    }\n",
              "</style>\n",
              "<table border=\"1\" class=\"dataframe\">\n",
              "  <thead>\n",
              "    <tr style=\"text-align: right;\">\n",
              "      <th></th>\n",
              "      <th>recovered</th>\n",
              "      <th>nonhospitalized</th>\n",
              "      <th>hospitalized</th>\n",
              "      <th>deceased</th>\n",
              "    </tr>\n",
              "  </thead>\n",
              "  <tbody>\n",
              "    <tr>\n",
              "      <th>recovered</th>\n",
              "      <td>843</td>\n",
              "      <td>782</td>\n",
              "      <td>16086</td>\n",
              "      <td>0</td>\n",
              "    </tr>\n",
              "    <tr>\n",
              "      <th>nonhospitalized</th>\n",
              "      <td>3</td>\n",
              "      <td>30046</td>\n",
              "      <td>0</td>\n",
              "      <td>0</td>\n",
              "    </tr>\n",
              "    <tr>\n",
              "      <th>hospitalized</th>\n",
              "      <td>531</td>\n",
              "      <td>38</td>\n",
              "      <td>24319</td>\n",
              "      <td>0</td>\n",
              "    </tr>\n",
              "    <tr>\n",
              "      <th>deceased</th>\n",
              "      <td>23</td>\n",
              "      <td>140</td>\n",
              "      <td>716</td>\n",
              "      <td>0</td>\n",
              "    </tr>\n",
              "  </tbody>\n",
              "</table>\n",
              "</div>"
            ],
            "text/plain": [
              "                 recovered  nonhospitalized  hospitalized  deceased\n",
              "recovered              843              782         16086         0\n",
              "nonhospitalized          3            30046             0         0\n",
              "hospitalized           531               38         24319         0\n",
              "deceased                23              140           716         0"
            ]
          },
          "metadata": {
            "tags": []
          },
          "execution_count": 64
        }
      ]
    },
    {
      "cell_type": "code",
      "metadata": {
        "id": "YXT6hraF3sA5"
      },
      "source": [
        "clf = RandomForestClassifier(n_estimators=25, random_state=0) \n",
        "clf.fit(X_train, y_train)\n",
        "pickle.dump( clf, open( \"../models/RandomForest25.pkl\", \"wb\" ) )"
      ],
      "execution_count": null,
      "outputs": []
    },
    {
      "cell_type": "code",
      "metadata": {
        "id": "8zda8jTu3sA6"
      },
      "source": [
        "trueRandomForest = pickle.load( open( '../models/RandomForest25.pkl', \"rb\" ) )\n",
        "randomForestprediction = list(trueRandomForest.predict(X_test))\n",
        "randomForestConfusionMatrix = confusion_matrix(y_test, randomForestprediction, labels=[\"recovered\",\"nonhospitalized\",\"hospitalized\",\"deceased\"])"
      ],
      "execution_count": null,
      "outputs": []
    },
    {
      "cell_type": "code",
      "metadata": {
        "id": "XGvt12Rq3sA6",
        "outputId": "8fcd3cd0-31e9-4d4a-b369-d9b139a6f60a"
      },
      "source": [
        "pd.DataFrame(randomForestConfusionMatrix).rename(index = {0:\"recovered\", 1: \"nonhospitalized\", 2: \"hospitalized\", 3: \"deceased\"}, columns = {0:\"recovered\", 1: \"nonhospitalized\", 2: \"hospitalized\", 3: \"deceased\"})"
      ],
      "execution_count": null,
      "outputs": [
        {
          "output_type": "execute_result",
          "data": {
            "text/html": [
              "<div>\n",
              "<style scoped>\n",
              "    .dataframe tbody tr th:only-of-type {\n",
              "        vertical-align: middle;\n",
              "    }\n",
              "\n",
              "    .dataframe tbody tr th {\n",
              "        vertical-align: top;\n",
              "    }\n",
              "\n",
              "    .dataframe thead th {\n",
              "        text-align: right;\n",
              "    }\n",
              "</style>\n",
              "<table border=\"1\" class=\"dataframe\">\n",
              "  <thead>\n",
              "    <tr style=\"text-align: right;\">\n",
              "      <th></th>\n",
              "      <th>recovered</th>\n",
              "      <th>nonhospitalized</th>\n",
              "      <th>hospitalized</th>\n",
              "      <th>deceased</th>\n",
              "    </tr>\n",
              "  </thead>\n",
              "  <tbody>\n",
              "    <tr>\n",
              "      <th>recovered</th>\n",
              "      <td>10562</td>\n",
              "      <td>174</td>\n",
              "      <td>6955</td>\n",
              "      <td>20</td>\n",
              "    </tr>\n",
              "    <tr>\n",
              "      <th>nonhospitalized</th>\n",
              "      <td>182</td>\n",
              "      <td>29833</td>\n",
              "      <td>13</td>\n",
              "      <td>21</td>\n",
              "    </tr>\n",
              "    <tr>\n",
              "      <th>hospitalized</th>\n",
              "      <td>3324</td>\n",
              "      <td>4</td>\n",
              "      <td>21548</td>\n",
              "      <td>12</td>\n",
              "    </tr>\n",
              "    <tr>\n",
              "      <th>deceased</th>\n",
              "      <td>256</td>\n",
              "      <td>55</td>\n",
              "      <td>528</td>\n",
              "      <td>40</td>\n",
              "    </tr>\n",
              "  </tbody>\n",
              "</table>\n",
              "</div>"
            ],
            "text/plain": [
              "                 recovered  nonhospitalized  hospitalized  deceased\n",
              "recovered            10562              174          6955        20\n",
              "nonhospitalized        182            29833            13        21\n",
              "hospitalized          3324                4         21548        12\n",
              "deceased               256               55           528        40"
            ]
          },
          "metadata": {
            "tags": []
          },
          "execution_count": 62
        }
      ]
    },
    {
      "cell_type": "code",
      "metadata": {
        "id": "2aj_Pja33sA7",
        "colab": {
          "base_uri": "https://localhost:8080/"
        },
        "outputId": "f8c9f361-b585-4605-e0eb-843c22b0af52"
      },
      "source": [
        "%%time\n",
        "OverRF = pickle.load( open( '/content/drive/MyDrive/DoR/rf10overSample', \"rb\" ) )"
      ],
      "execution_count": 102,
      "outputs": [
        {
          "output_type": "stream",
          "text": [
            "/usr/local/lib/python3.7/dist-packages/sklearn/base.py:318: UserWarning: Trying to unpickle estimator DecisionTreeClassifier from version 0.23.2 when using version 0.22.2.post1. This might lead to breaking code or invalid results. Use at your own risk.\n",
            "  UserWarning)\n",
            "/usr/local/lib/python3.7/dist-packages/sklearn/base.py:318: UserWarning: Trying to unpickle estimator RandomForestClassifier from version 0.23.2 when using version 0.22.2.post1. This might lead to breaking code or invalid results. Use at your own risk.\n",
            "  UserWarning)\n"
          ],
          "name": "stderr"
        },
        {
          "output_type": "stream",
          "text": [
            "CPU times: user 9.77 ms, sys: 2.96 ms, total: 12.7 ms\n",
            "Wall time: 729 ms\n"
          ],
          "name": "stdout"
        },
        {
          "output_type": "stream",
          "text": [
            "/usr/local/lib/python3.7/dist-packages/sklearn/base.py:318: UserWarning: Trying to unpickle estimator RandomizedSearchCV from version 0.23.2 when using version 0.22.2.post1. This might lead to breaking code or invalid results. Use at your own risk.\n",
            "  UserWarning)\n"
          ],
          "name": "stderr"
        }
      ]
    },
    {
      "cell_type": "code",
      "metadata": {
        "id": "-9p6SNULO60_"
      },
      "source": [
        "bestest = OverRF.best_estimator_"
      ],
      "execution_count": 115,
      "outputs": []
    },
    {
      "cell_type": "code",
      "metadata": {
        "colab": {
          "base_uri": "https://localhost:8080/"
        },
        "id": "f-jQDB4KMzUZ",
        "outputId": "0dc2e609-4dd5-4fba-d2e8-4e9d52a50d8d"
      },
      "source": [
        "%%time\n",
        "randomForestprediction = list(bestest.predict(X_test))\n",
        "randomForestConfusionMatrix = confusion_matrix(y_test, randomForestprediction, labels=[\"recovered\",\"nonhospitalized\",\"hospitalized\",\"deceased\"])"
      ],
      "execution_count": 119,
      "outputs": [
        {
          "output_type": "stream",
          "text": [
            "CPU times: user 740 ms, sys: 9.1 ms, total: 749 ms\n",
            "Wall time: 751 ms\n"
          ],
          "name": "stdout"
        }
      ]
    },
    {
      "cell_type": "code",
      "metadata": {
        "colab": {
          "base_uri": "https://localhost:8080/"
        },
        "id": "aMF-5aiWPEdH",
        "outputId": "540e94da-a26f-4237-8e40-664bdebcca88"
      },
      "source": [
        "randomForestConfusionMatrix"
      ],
      "execution_count": 120,
      "outputs": [
        {
          "output_type": "execute_result",
          "data": {
            "text/plain": [
              "array([[ 6964,    82,  7566,  3102],\n",
              "       [  276, 29161,    11,   526],\n",
              "       [ 4380,     1, 16685,  3842],\n",
              "       [  101,    17,   407,   406]])"
            ]
          },
          "metadata": {
            "tags": []
          },
          "execution_count": 120
        }
      ]
    }
  ]
}